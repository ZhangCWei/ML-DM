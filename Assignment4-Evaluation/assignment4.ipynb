{
 "cells": [
  {
   "cell_type": "markdown",
   "id": "498d70fa",
   "metadata": {},
   "source": [
    "**<font color = black size=6>实验四:模型评估</font>**"
   ]
  },
  {
   "cell_type": "markdown",
   "id": "fa5c5483",
   "metadata": {},
   "source": [
    "**<font color = blue size=4>第一部分:数据集划分</font>**"
   ]
  },
  {
   "cell_type": "code",
   "execution_count": 1,
   "id": "9fa3ad13",
   "metadata": {},
   "outputs": [],
   "source": [
    "import pandas as pd\n",
    "import numpy as np\n",
    "import matplotlib.pyplot as plt\n",
    "import math\n",
    "import matplotlib as mpl\n",
    "import warnings\n",
    "import random\n",
    "warnings.filterwarnings('ignore')"
   ]
  },
  {
   "cell_type": "markdown",
   "id": "869f21ce",
   "metadata": {},
   "source": [
    "<span style=\"color:purple\">给定一个完整的数据集，尚未划分训练集和测试集，我们需要手动实现训练集和测试集的划分:</span>"
   ]
  },
  {
   "cell_type": "markdown",
   "id": "4ee0eb93",
   "metadata": {},
   "source": [
    "<span style=\"color:purple\">我们继续使用iris数据集(iris.csv)，这次我们引入了具有4个特征 (花萼长度($x_1$)，花萼宽度 ($x_2$),花瓣长度 ($x_3$),花瓣宽度 ($x_4$))和两个标签 (Setosa，Versicolour)的100个样本数据，其中每类标签的样本占50%。我们需要将其划分为训练集和测试集，其中测试集中的样本数量占总数量的30%(也就是30个)，且测试集中每个标签的样本各占50%</span>"
   ]
  },
  {
   "cell_type": "markdown",
   "id": "e6dc88ab",
   "metadata": {},
   "source": [
    "<span style=\"color:purple\">1) 留出法</span>"
   ]
  },
  {
   "cell_type": "markdown",
   "id": "031ac8a2",
   "metadata": {},
   "source": [
    "<span style=\"color:purple\">我们通过随机选择样本的方式将数据分割为训练集和测试集，并保持两种标签的数据的数量一致</span>"
   ]
  },
  {
   "cell_type": "code",
   "execution_count": 2,
   "id": "6f5a2eb0",
   "metadata": {},
   "outputs": [
    {
     "name": "stdout",
     "output_type": "stream",
     "text": [
      "Train data number:  70\n",
      "Test data number:  30\n",
      "Train data :  [[5.1 3.5 1.4 0.2 0. ]\n",
      " [4.9 3.  1.4 0.2 0. ]\n",
      " [4.7 3.2 1.3 0.2 0. ]\n",
      " [5.4 3.9 1.7 0.4 0. ]\n",
      " [4.6 3.4 1.4 0.3 0. ]\n",
      " [5.  3.4 1.5 0.2 0. ]\n",
      " [4.9 3.1 1.5 0.1 0. ]\n",
      " [5.4 3.7 1.5 0.2 0. ]\n",
      " [4.8 3.4 1.6 0.2 0. ]\n",
      " [5.8 4.  1.2 0.2 0. ]\n",
      " [5.7 4.4 1.5 0.4 0. ]\n",
      " [5.4 3.9 1.3 0.4 0. ]\n",
      " [5.7 3.8 1.7 0.3 0. ]\n",
      " [5.4 3.4 1.7 0.2 0. ]\n",
      " [5.1 3.7 1.5 0.4 0. ]\n",
      " [4.6 3.6 1.  0.2 0. ]\n",
      " [5.1 3.3 1.7 0.5 0. ]\n",
      " [4.8 3.4 1.9 0.2 0. ]\n",
      " [5.2 3.5 1.5 0.2 0. ]\n",
      " [5.2 3.4 1.4 0.2 0. ]\n",
      " [4.7 3.2 1.6 0.2 0. ]\n",
      " [5.4 3.4 1.5 0.4 0. ]\n",
      " [5.5 4.2 1.4 0.2 0. ]\n",
      " [4.9 3.1 1.5 0.2 0. ]\n",
      " [5.  3.2 1.2 0.2 0. ]\n",
      " [5.5 3.5 1.3 0.2 0. ]\n",
      " [4.4 3.  1.3 0.2 0. ]\n",
      " [5.  3.5 1.3 0.3 0. ]\n",
      " [4.5 2.3 1.3 0.3 0. ]\n",
      " [4.4 3.2 1.3 0.2 0. ]\n",
      " [5.  3.5 1.6 0.6 0. ]\n",
      " [5.1 3.8 1.9 0.4 0. ]\n",
      " [5.1 3.8 1.6 0.2 0. ]\n",
      " [4.6 3.2 1.4 0.2 0. ]\n",
      " [5.  3.3 1.4 0.2 0. ]\n",
      " [6.3 3.3 6.  2.5 1. ]\n",
      " [5.8 2.7 5.1 1.9 1. ]\n",
      " [7.1 3.  5.9 2.1 1. ]\n",
      " [7.6 3.  6.6 2.1 1. ]\n",
      " [4.9 2.5 4.5 1.7 1. ]\n",
      " [7.3 2.9 6.3 1.8 1. ]\n",
      " [7.2 3.6 6.1 2.5 1. ]\n",
      " [6.5 3.2 5.1 2.  1. ]\n",
      " [6.4 2.7 5.3 1.9 1. ]\n",
      " [5.8 2.8 5.1 2.4 1. ]\n",
      " [6.4 3.2 5.3 2.3 1. ]\n",
      " [6.5 3.  5.5 1.8 1. ]\n",
      " [7.7 2.6 6.9 2.3 1. ]\n",
      " [6.9 3.2 5.7 2.3 1. ]\n",
      " [5.6 2.8 4.9 2.  1. ]\n",
      " [7.7 2.8 6.7 2.  1. ]\n",
      " [6.3 2.7 4.9 1.8 1. ]\n",
      " [6.7 3.3 5.7 2.1 1. ]\n",
      " [6.1 3.  4.9 1.8 1. ]\n",
      " [6.4 2.8 5.6 2.1 1. ]\n",
      " [7.2 3.  5.8 1.6 1. ]\n",
      " [7.9 3.8 6.4 2.  1. ]\n",
      " [6.3 2.8 5.1 1.5 1. ]\n",
      " [6.1 2.6 5.6 1.4 1. ]\n",
      " [7.7 3.  6.1 2.3 1. ]\n",
      " [6.3 3.4 5.6 2.4 1. ]\n",
      " [6.  3.  4.8 1.8 1. ]\n",
      " [6.7 3.1 5.6 2.4 1. ]\n",
      " [6.9 3.1 5.1 2.3 1. ]\n",
      " [5.8 2.7 5.1 1.9 1. ]\n",
      " [6.8 3.2 5.9 2.3 1. ]\n",
      " [6.7 3.3 5.7 2.5 1. ]\n",
      " [6.3 2.5 5.  1.9 1. ]\n",
      " [6.5 3.  5.2 2.  1. ]\n",
      " [5.9 3.  5.1 1.8 1. ]]\n",
      "Test data :  [[4.3 3.  1.1 0.1 0. ]\n",
      " [5.1 3.4 1.5 0.2 0. ]\n",
      " [4.8 3.1 1.6 0.2 0. ]\n",
      " [4.8 3.  1.4 0.3 0. ]\n",
      " [5.1 3.5 1.4 0.3 0. ]\n",
      " [5.3 3.7 1.5 0.2 0. ]\n",
      " [5.  3.4 1.6 0.4 0. ]\n",
      " [5.  3.  1.6 0.2 0. ]\n",
      " [5.2 4.1 1.5 0.1 0. ]\n",
      " [5.1 3.8 1.5 0.3 0. ]\n",
      " [4.8 3.  1.4 0.1 0. ]\n",
      " [5.  3.6 1.4 0.2 0. ]\n",
      " [4.9 3.6 1.4 0.1 0. ]\n",
      " [4.4 2.9 1.4 0.2 0. ]\n",
      " [4.6 3.1 1.5 0.2 0. ]\n",
      " [5.7 2.5 5.  2.  1. ]\n",
      " [6.9 3.1 5.4 2.1 1. ]\n",
      " [7.4 2.8 6.1 1.9 1. ]\n",
      " [6.7 3.  5.2 2.3 1. ]\n",
      " [7.7 3.8 6.7 2.2 1. ]\n",
      " [6.2 3.4 5.4 2.3 1. ]\n",
      " [6.2 2.8 4.8 1.8 1. ]\n",
      " [7.2 3.2 6.  1.8 1. ]\n",
      " [6.4 2.8 5.6 2.2 1. ]\n",
      " [6.  2.2 5.  1.5 1. ]\n",
      " [6.8 3.  5.5 2.1 1. ]\n",
      " [6.5 3.  5.8 2.2 1. ]\n",
      " [6.4 3.1 5.5 1.8 1. ]\n",
      " [6.7 2.5 5.8 1.8 1. ]\n",
      " [6.3 2.9 5.6 1.8 1. ]]\n"
     ]
    }
   ],
   "source": [
    "#通过pandas将csv文件转换为dataframe格式后进行操作\n",
    "df = pd.read_csv('iris.csv')\n",
    "\n",
    "#将label标签内容从字符串替换为数值\n",
    "df['Species'] = df['Species'].map({'setosa': 0, 'virginica': 1}).fillna(-1)\n",
    "\n",
    "# 获取特征和标签列\n",
    "features = df.iloc[:, :-1]\n",
    "labels = df.iloc[:, -1]\n",
    "\n",
    "# 计算每个类别需要分配给测试集的样本数量的比例，假设为 30%\n",
    "test_ratio = 0.3\n",
    "\n",
    "# 计算每个类别需要分配给测试集的样本数量\n",
    "test_samples_per_class = (labels.value_counts() * test_ratio).astype(int)\n",
    "\n",
    "# 初始化测试集和训练集\n",
    "train_data = pd.DataFrame()\n",
    "test_data = pd.DataFrame()\n",
    "\n",
    "# 根据标签的分布进行采样\n",
    "for label, count in test_samples_per_class.items():\n",
    "    class_samples = df[df['Species'] == label].sample(n=count, random_state=42)\n",
    "    test_data = test_data.append(class_samples)\n",
    "    train_data = train_data.append(df[df['Species'] == label].drop(class_samples.index))\n",
    "\n",
    "# 获取训练集和测试集的特征和标签\n",
    "train_features = train_data.iloc[:, :-1]\n",
    "train_labels = train_data.iloc[:, -1]\n",
    "test_features = test_data.iloc[:, :-1]\n",
    "test_labels = test_data.iloc[:, -1]\n",
    "\n",
    "# 打印训练集和测试集大小\n",
    "print(\"Train data number: \", len(train_data))\n",
    "print(\"Test data number: \", len(test_data))\n",
    "\n",
    "#打印训练集和测试集\n",
    "print(\"Train data : \", np.array(train_data))\n",
    "print(\"Test data : \", np.array(test_data))"
   ]
  },
  {
   "cell_type": "markdown",
   "id": "d4439e70",
   "metadata": {},
   "source": [
    "<span style=\"color:purple\">2) 交叉验证法</span>"
   ]
  },
  {
   "cell_type": "markdown",
   "id": "94e03583",
   "metadata": {},
   "source": [
    "<span style=\"color:purple\">我们将数据集分割为k个大小相等且标签数量类似的子数据集，每个迭代中选取一个子数据集作为测试集，剩余k-1个组成训练集，并保持两种标签的数据的数量一致</span>"
   ]
  },
  {
   "cell_type": "code",
   "execution_count": 3,
   "id": "583cafc3",
   "metadata": {},
   "outputs": [
    {
     "name": "stdout",
     "output_type": "stream",
     "text": [
      "第 1 折的测试集:  Int64Index([13, 75, 98, 39, 32, 48, 89, 45, 82, 76, 95, 30, 19, 69, 17, 80, 25,\n",
      "            63, 67, 26],\n",
      "           dtype='int64')\n",
      "第 2 折的测试集:  Int64Index([12, 96, 56, 4, 47, 6, 54, 8, 97, 91, 58, 37, 15, 65, 3, 87, 46, 62,\n",
      "            53, 41],\n",
      "           dtype='int64')\n",
      "第 3 折的测试集:  Int64Index([9, 77, 50, 16, 33, 0, 66, 34, 83, 94, 84, 24, 5, 55, 31, 74, 27,\n",
      "            59, 81, 44],\n",
      "           dtype='int64')\n",
      "第 4 折的测试集:  Int64Index([29, 85, 52, 11, 23, 2, 61, 1, 73, 93, 51, 36, 40, 90, 21, 86, 35,\n",
      "            79, 71, 43],\n",
      "           dtype='int64')\n",
      "第 5 折的测试集:  Int64Index([10, 64, 57, 22, 28, 7, 72, 49, 78, 92, 99, 18, 38, 88, 20, 68, 14,\n",
      "            60, 70, 42],\n",
      "           dtype='int64')\n"
     ]
    }
   ],
   "source": [
    "df = pd.read_csv('iris.csv')\n",
    "\n",
    "#将label标签内容从字符串替换为数值\n",
    "df['Species'] = df['Species'].map({'setosa': 0, 'virginica': 1}).fillna(-1)\n",
    "\n",
    "# 获取特征和标签列\n",
    "features = df.iloc[:, :-1]\n",
    "labels = df.iloc[:, -1]\n",
    "\n",
    "# 将数据按照标签分为两类\n",
    "class_0_samples = df[df['Species'] == 0]\n",
    "class_1_samples = df[df['Species'] == 1]\n",
    "\n",
    "# 将每一类别的样本随机排序\n",
    "class_0_samples = class_0_samples.sample(frac=1, random_state=42)\n",
    "class_1_samples = class_1_samples.sample(frac=1, random_state=42)\n",
    "\n",
    "\n",
    "# 进行 k 折交叉验证\n",
    "k = 5\n",
    "\n",
    "# 初始化训练集和测试集的列表\n",
    "train_data = []\n",
    "test_data = []\n",
    "\n",
    "for i in range(k):\n",
    "    # 初始化当前折的训练集和测试集\n",
    "    train_fold = pd.DataFrame()\n",
    "    test_fold = pd.DataFrame()\n",
    "\n",
    "    # 计算当前折中每个类别的样本数量\n",
    "    class_0_fold_size = len(class_0_samples) // k\n",
    "    class_1_fold_size = len(class_1_samples) // k\n",
    "    \n",
    "\n",
    "    # 添加当前折中每个类别的样本到测试集\n",
    "    test_fold = test_fold.append(class_0_samples[i * class_0_fold_size: (i + 1) * class_0_fold_size])\n",
    "    test_fold = test_fold.append(class_1_samples[i * class_1_fold_size: (i + 1) * class_1_fold_size])\n",
    "    \n",
    "    # 添加剩余样本到训练集\n",
    "    train_fold = df.drop(test_fold.index)\n",
    "\n",
    "    # 打乱训练集和测试集的顺序，以便更好的随机性\n",
    "    train_fold = train_fold.sample(frac=1, random_state=42)\n",
    "    test_fold = test_fold.sample(frac=1, random_state=42)\n",
    "\n",
    "    # 将当前折的训练集和测试集添加到列表\n",
    "    train_data.append(train_fold)\n",
    "    test_data.append(test_fold)\n",
    "\n",
    "# 打印每一折的测试集索引，可以看到均为不重复样本\n",
    "for i in range(k):\n",
    "    print(\"第\", i+1, \"折的测试集: \", (test_data[i].index))"
   ]
  },
  {
   "cell_type": "markdown",
   "id": "7eb3da69",
   "metadata": {},
   "source": [
    "<span style=\"color:purple\">3) 自助法</span>"
   ]
  },
  {
   "cell_type": "markdown",
   "id": "7c3824cc",
   "metadata": {},
   "source": [
    "<span style=\"color:purple\">我们使用有放回采样的方式，每次选取选取一个样本加入到训练集，抽取样本数量(100)次后，将未被选择的样本组成测试集</span>"
   ]
  },
  {
   "cell_type": "code",
   "execution_count": 4,
   "id": "4d61aa90",
   "metadata": {},
   "outputs": [
    {
     "name": "stdout",
     "output_type": "stream",
     "text": [
      "训练集大小:  100\n",
      "测试集大小:  35\n"
     ]
    }
   ],
   "source": [
    "df = pd.read_csv('iris.csv')\n",
    "\n",
    "#将label标签内容从字符串替换为数值\n",
    "df['Species'] = df['Species'].map({'setosa': 0, 'virginica': 1}).fillna(-1)\n",
    "\n",
    "# 获取特征和标签列\n",
    "features = df.iloc[:, :-1]\n",
    "labels = df.iloc[:, -1]\n",
    "\n",
    "# 创建自助样本集\n",
    "num_samples = df.shape[0]\n",
    "train_data = []\n",
    "test_data = []\n",
    "\n",
    "for i in range(num_samples):\n",
    "    index = random.randint(0, num_samples-1)\n",
    "    train_data.append(df.iloc[index])\n",
    "\n",
    "# 创建测试集（排除训练集中已存在的样本）\n",
    "for _, row in df.iterrows():\n",
    "    is_in_train_data = False\n",
    "    for train_row in train_data:\n",
    "        if row.equals(train_row):\n",
    "            is_in_train_data = True\n",
    "            break\n",
    "    if not is_in_train_data:\n",
    "        test_data.append(row)\n",
    "\n",
    "# 打印训练集和测试集大小\n",
    "print(\"训练集大小: \", len(train_data))\n",
    "print(\"测试集大小: \", len(test_data))\n"
   ]
  },
  {
   "cell_type": "markdown",
   "id": "defc35cf",
   "metadata": {},
   "source": [
    "**<font color = blue size=4>第二部分:性能度量</font>**"
   ]
  },
  {
   "cell_type": "markdown",
   "id": "0bad6882",
   "metadata": {},
   "source": [
    "<span style=\"color:purple\">1) 回归任务:</span>"
   ]
  },
  {
   "cell_type": "markdown",
   "id": "2947d07a",
   "metadata": {},
   "source": [
    "<span style=\"color:purple\">均方误差(MSE): 计算模型的预测 $\\hat{Y}$ 与真实标签 $Y$ 的接近程度</span>"
   ]
  },
  {
   "cell_type": "markdown",
   "id": "9a2a2f92",
   "metadata": {},
   "source": [
    "给定一组测试集样本$D$ = \\{$(x_1,y_1),(x_2,y_2), ... ,(x_m,y_m)$\\},其中$x_i$为样本$i$的特征值,$y_i$为样本$i$的标签值, $f$为训练的模型,该模型$f$在$D$的均方误差为$$E(f;D) = \\frac{1}{m}\\sum_{i=1}^{m}{(f(x_i)-y_i)^2}$$"
   ]
  },
  {
   "cell_type": "markdown",
   "id": "34471ad3",
   "metadata": {},
   "source": [
    "<span style=\"color:purple\">2)分类任务:</span>"
   ]
  },
  {
   "cell_type": "markdown",
   "id": "839671e7",
   "metadata": {},
   "source": [
    "<span style=\"color:purple\">2.1)错误率: 分类错误样本占比</span>"
   ]
  },
  {
   "cell_type": "markdown",
   "id": "2b3765a7",
   "metadata": {},
   "source": [
    "给定一组测试集样本$D$ = \\{$(x_1,y_1),(x_2,y_2), ... ,(x_m,y_m)$\\}, 其中$x_i$为样本$i$的特征值, $y_i$为样本$i$的真实标签, $f$为训练的模型, $f(x_i)$为样本$i$的预测标签, 该模型$f$在$D$的错误率为$$E(f;D) = \\frac{1}{m}\\sum_{i=1}^{m}{Ⅱ(f(x_i)\\neq y_i)}$$"
   ]
  },
  {
   "cell_type": "markdown",
   "id": "c7730363",
   "metadata": {},
   "source": [
    "<span style=\"color:purple\">2.2)精确率: 分类正确样本占比</span>"
   ]
  },
  {
   "cell_type": "markdown",
   "id": "2f8bafc4",
   "metadata": {},
   "source": [
    "给定一组测试集样本$D$ = \\{$(x_1,y_1),(x_2,y_2), ... ,(x_m,y_m)$\\}, 其中$x_i$为样本$i$的特征值, $y_i$为样本$i$的真实标签, $f$为训练的模型, $f(x_i)$为样本i的预测标签, 该模型$f$在$D$的精度为$$acc(f;D) = \\frac{1}{m}\\sum_{i=1}^{m}{Ⅱ(f(x_i) = y_i)} = 1 - E(f;D)$$"
   ]
  },
  {
   "cell_type": "markdown",
   "id": "b0406841",
   "metadata": {},
   "source": [
    "<span style=\"color:purple\">2.3)查准率和查全率: 正例被预测出来的比率和预测出来的正例中正确的比率</span>"
   ]
  },
  {
   "attachments": {
    "1.png": {
     "image/png": "[encoded data removed]"
    }
   },
   "cell_type": "markdown",
   "id": "8d202393",
   "metadata": {},
   "source": [
    "给定一组测试集样本$D$ = \\{$(x_1,y_1),(x_2,y_2), ... ,(x_m,y_m)$\\}, 其中$x_i$为样本$i$的特征值, $y_i$为样本$i$的真实标签, $f$为训练的模型, $f(x_i)$为样本i的预测标签.\n",
    "\n",
    "我们假定该类样本中label为1(正例)和0(反例):\n",
    "\n",
    "![1.png](attachment:1.png)\n",
    "\n",
    "TP(真正例):$$\\sum_{i=1}^{m}{Ⅱ(y_i=1 \\quad \\&\\&\\quad (f(x_i)= y_i))},$$\n",
    "\n",
    "FP(假正例):$$\\sum_{i=1}^{m}{Ⅱ(y_i=1 \\quad \\&\\&\\quad (f(x_i)\\neq y_i))},$$\n",
    "\n",
    "FN(假反例):$$\\sum_{i=1}^{m}{Ⅱ(y_i=0 \\quad \\&\\&\\quad (f(x_i)\\neq y_i))},$$\n",
    "\n",
    "其中查准率(precision):$$\\frac{TP}{TP+FP},$$\n",
    "\n",
    "查全率(recall):$$\\frac{TP}{TP+FN}.$$\n",
    "\n"
   ]
  },
  {
   "cell_type": "markdown",
   "id": "e507df89",
   "metadata": {},
   "source": [
    "<span style=\"color:purple\">2.4)P-R曲线: 根据模型的预测结果按正例可能性大小对样例进行排序，并逐个把样本作为正例进行预测，则可以得到查准率-查全率曲线</span>"
   ]
  },
  {
   "cell_type": "markdown",
   "id": "1c7a07f2",
   "metadata": {},
   "source": [
    "计算出所有用户的正例可能性:$P(y=1|x;w)$,并进行排序\n",
    "\n",
    "从高到低以每个用户的正例可能性为【阈值】，根据$\\hat{Y}=1$, if $P(y=1|x;w) \\geq 【阈值】$，得到一个坐标点(precision,recall)\n",
    "\n",
    "记录每个坐标点(precision,recall)的F1度量: $F1 = \\frac{2*P*R}{P+R}$\n",
    "\n",
    "最后将得到的所有(precision,recall)画成折线图"
   ]
  },
  {
   "cell_type": "markdown",
   "id": "494dce53",
   "metadata": {},
   "source": [
    "给出一个简易的折线图的画图例子"
   ]
  },
  {
   "cell_type": "code",
   "execution_count": 5,
   "id": "d11e2e1e",
   "metadata": {},
   "outputs": [
    {
     "data": {
      "image/png": "[encoded data removed]",
      "text/plain": [
       "<Figure size 640x480 with 1 Axes>"
      ]
     },
     "metadata": {},
     "output_type": "display_data"
    }
   ],
   "source": [
    "thresholds = [0.05, 0.10, 0.15, 0.20, 0.25, 0.30, 0.35, 0.40, 0.45, 0.50, 0.55, 0.60, 0.65, 0.70, 0.75, 0.80, 0.85, 0.90, 0.95]\n",
    "recall     = [1.00, 0.97, 0.94, 0.92, 0.89, 0.85, 0.82, 0.78, 0.75, 0.70, 0.66, 0.61, 0.57, 0.53, 0.48, 0.41, 0.33, 0.21, 0.01]\n",
    "precision  = [0.60, 0.65, 0.68, 0.71, 0.74, 0.76, 0.78, 0.80, 0.82, 0.84, 0.86, 0.89, 0.9, 0.91, 0.93, 0.95, 0.96, 0.98, 1.00]\n",
    "\n",
    "\n",
    "plt.plot(precision,recall, marker='o')\n",
    "plt.xlabel('Precision')\n",
    "plt.ylabel('Recall')\n",
    "plt.title('P-R Curve')\n",
    "plt.show()"
   ]
  },
  {
   "cell_type": "markdown",
   "id": "d4942b54",
   "metadata": {},
   "source": [
    "<span style=\"color:purple\">2.5)ROC曲线: 根据模型的预测结果按正例可能性大小对样例进行排序，并逐个把样本作为正例进行预测，得到一组(FPR,TPR)，进而得到ROC曲线</span>"
   ]
  },
  {
   "cell_type": "markdown",
   "id": "3eea233a",
   "metadata": {},
   "source": [
    "其中$TPR=\\frac{TP}{TP+FN}$,$FPR=\\frac{FP}{TN+FP}.$"
   ]
  },
  {
   "cell_type": "markdown",
   "id": "19fe854f",
   "metadata": {},
   "source": [
    "**<font color = blue size=4>第四部分:课堂实验</font>**"
   ]
  },
  {
   "cell_type": "markdown",
   "id": "0a984f25",
   "metadata": {},
   "source": [
    "我们引入了一个骨科患者的生物力学特征数据集(illness.csv)，每个患者在数据集中由六个生物力学属性表示，这些属性分别为pelvic_incidence（盆腔发病率）、pelvic_tilt numeric（骨盆倾斜）、lumbar_lordosis_angle（腰椎前凸角）、sacral_slope（骶骨斜率）、pelvic_radius（骨盆桡骨）、pelvic_radius（脊椎滑脱分级), 对应的标签则为是否为椎间盘疝气和脊椎滑脱(normal和abnormal)."
   ]
  },
  {
   "cell_type": "markdown",
   "id": "7ad941c3",
   "metadata": {},
   "source": [
    "该数据集共有310个样本，但并没有划分训练集和测试集."
   ]
  },
  {
   "cell_type": "markdown",
   "id": "46b03f29",
   "metadata": {},
   "source": [
    "<span style=\"color:purple\">1)导入数据集,根据数据信息定义逻辑回归的模型</span>"
   ]
  },
  {
   "cell_type": "code",
   "execution_count": 6,
   "id": "052a2351",
   "metadata": {},
   "outputs": [],
   "source": [
    "#your code here\n",
    "#通过pandas将csv文件转换为dataframe格式后进行操作\n",
    "dataframe = pd.read_csv('illness.csv')\n"
   ]
  },
  {
   "cell_type": "markdown",
   "id": "efcb1743",
   "metadata": {},
   "source": [
    "<span style=\"color:purple\">2)请分别使用三种数据划分方式(留出法、交叉验证法、自助法)划分出训练集和测试集</span>"
   ]
  },
  {
   "cell_type": "code",
   "execution_count": 7,
   "id": "464d7c86",
   "metadata": {},
   "outputs": [
    {
     "name": "stdout",
     "output_type": "stream",
     "text": [
      "Train data number of Hold-Out:  217\n",
      "Test data number of Hold-Out:  93\n",
      "Train data of Hold-Out:  [[ 63.0278175   22.55258597  39.60911701 ...  98.67291675  -0.25439999\n",
      "    0.        ]\n",
      " [ 39.05695098  10.06099147  25.01537822 ... 114.4054254    4.56425864\n",
      "    0.        ]\n",
      " [ 68.83202098  22.21848205  50.09219357 ... 105.9851355   -3.53031731\n",
      "    0.        ]\n",
      " ...\n",
      " [ 61.44659663  22.6949683   46.17034732 ... 125.6707246   -2.70787952\n",
      "    1.        ]\n",
      " [ 45.25279209   8.69315736  41.5831264  ... 118.5458418    0.21475017\n",
      "    1.        ]\n",
      " [ 33.84164075   5.07399141  36.64123294 ... 123.9452436   -0.19924909\n",
      "    1.        ]]\n",
      "Test data of Hold-Out:  [[ 50.81926781  15.40221253  42.52893886  35.41705528 112.192804\n",
      "   10.86956554   0.        ]\n",
      " [ 56.66829282  13.45820343  43.76970978  43.21008939  93.69220863\n",
      "   21.10812135   0.        ]\n",
      " [ 76.32600187  42.39620445  57.19999999  33.92979742 124.267007\n",
      "   50.12745689   0.        ]\n",
      " [ 75.29847847  16.67148361  61.29620362  58.62699486 118.8833881\n",
      "   31.57582292   0.        ]\n",
      " [ 74.37767772  32.05310438  78.77201304  42.32457334 143.5606905\n",
      "   56.12590603   0.        ]\n",
      " [ 66.80479632  14.55160171  72.08491177  52.25319461  82.45603817\n",
      "   41.6854736    0.        ]\n",
      " [ 50.91244034  23.01516931  46.99999999  27.89727103 117.4222591\n",
      "   -2.52670151   0.        ]\n",
      " [ 75.43774787  31.53945399  89.59999999  43.89829388 106.8295898\n",
      "   54.96578902   0.        ]\n",
      " [ 36.68635286   5.01088412  41.9487509   31.67546874  84.24141517\n",
      "    0.66443712   0.        ]\n",
      " [ 63.7723908   12.76338484  65.36052425  51.00900596  89.82274067\n",
      "   55.99545386   0.        ]\n",
      " [ 88.0244989   39.84466878  81.77447308  48.17983012 116.6015376\n",
      "   56.76608323   0.        ]\n",
      " [ 60.419932     5.26566542  59.8142356   55.15426658 109.0330745\n",
      "   30.26578534   0.        ]\n",
      " [ 74.09473084  18.82372712  76.03215571  55.27100372 128.4057314\n",
      "   73.38821617   0.        ]\n",
      " [ 70.67689818  21.70440224  59.18116082  48.97249594 103.0083545\n",
      "   27.8101478    0.        ]\n",
      " [ 44.31890674  12.53799164  36.098763    31.78091509 124.1158358\n",
      "    5.41582514   0.        ]\n",
      " [ 55.512212    20.09515673  43.99999999  35.41705528 122.648753\n",
      "   34.55294641   0.        ]\n",
      " [ 83.7031774   20.26822858  77.1105979   63.43494882 125.4801739\n",
      "   69.279571     0.        ]\n",
      " [ 38.69791243  13.44474904  31.          25.25316339 123.1592507\n",
      "    1.42918576   0.        ]\n",
      " [ 95.38259648  24.82263131  95.15763273  70.55996517  89.3075466\n",
      "   57.66084135   0.        ]\n",
      " [ 58.10193455  14.83763914  79.64983825  43.26429541 113.5876551\n",
      "   50.23787808   0.        ]\n",
      " [ 70.22145219  39.82272448  68.11840309  30.39872771 148.5255624\n",
      "  145.3781432    0.        ]\n",
      " [ 47.65772963  13.27738491  36.67998541  34.38034472  98.24978071\n",
      "    6.27301217   0.        ]\n",
      " [ 55.08076562  -3.75992987  55.99999999  58.84069549 109.9153669\n",
      "   31.77358318   0.        ]\n",
      " [ 68.61300092  15.0822353   63.01469619  53.53076561 123.4311742\n",
      "   39.49798659   0.        ]\n",
      " [ 63.17298709   6.33091097  62.99999999  56.84207612 110.6440206\n",
      "   42.60807567   0.        ]\n",
      " [ 85.29017283  18.27888963 100.7442198   67.0112832  110.6607005\n",
      "   58.88494802   0.        ]\n",
      " [ 54.12492019  26.65048856  35.32974693  27.47443163 121.447011\n",
      "    1.57120482   0.        ]\n",
      " [ 48.06062649   5.68703213  57.05716117  42.37359436  95.44375749\n",
      "   32.83587702   0.        ]\n",
      " [ 63.83498162  20.36250706  54.55243367  43.47247456 112.3094915\n",
      "   -0.62252664   0.        ]\n",
      " [ 50.82502875   9.06472905  56.29999999  41.7602997   78.99945411\n",
      "   23.04152435   0.        ]\n",
      " [ 74.46908181  33.28315665  66.94210105  41.18592517 146.4660009\n",
      "  124.9844057    0.        ]\n",
      " [ 58.59952852  -0.26149905  51.49999999  58.86102756 102.0428116\n",
      "   28.05969711   0.        ]\n",
      " [ 79.93857026  18.7740711   63.31183486  61.16449915 114.787107\n",
      "   38.53874133   0.        ]\n",
      " [ 75.64973136  19.33979889  64.14868477  56.30993248  95.9036288\n",
      "   69.55130292   0.        ]\n",
      " [ 77.40933294  29.39654543  63.23230243  48.0127875  118.4507311\n",
      "   93.56373734   0.        ]\n",
      " [ 69.62628302  21.12275138  52.76659472  48.50353164 116.8030913\n",
      "   54.81686729   0.        ]\n",
      " [ 37.90391014   4.47909896  24.71027447  33.42481118 157.848799\n",
      "   33.60702661   0.        ]\n",
      " [ 57.52235608  33.64707522  50.90985841  23.87528085 140.9817119\n",
      "  148.7537109    0.        ]\n",
      " [ 88.62390839  29.08945331  47.56426247  59.53445508 121.7647796\n",
      "   51.80589921   0.        ]\n",
      " [ 64.27481758  12.50864276  68.70237672  51.76617482  95.25245421\n",
      "   39.40982612   0.        ]\n",
      " [ 58.82837872  37.57787321 125.7423855   21.25050551 135.6294176\n",
      "  117.3146829    0.        ]\n",
      " [118.1446548   38.44950127  50.83851954  79.69515353  81.0245406\n",
      "   74.04376736   0.        ]\n",
      " [ 81.11260488  20.69044356  60.68700588  60.42216132  94.01878339\n",
      "   40.51098228   0.        ]\n",
      " [ 96.65731511  19.46158117  90.21149828  77.19573393 120.6730408\n",
      "   64.08099841   0.        ]\n",
      " [ 63.36433898  20.02462134  67.49870507  43.33971763 130.9992576\n",
      "   37.55670552   0.        ]\n",
      " [ 72.07627839  18.94617604  50.99999999  53.13010236 114.2130126\n",
      "    1.01004051   0.        ]\n",
      " [ 79.4769781   26.73226755  70.65098189  52.74471055 118.5886691\n",
      "   61.70059824   0.        ]\n",
      " [ 59.78526526  17.87932332  59.20646143  41.90594194 119.3191109\n",
      "   22.12386874   0.        ]\n",
      " [ 84.5856071   30.36168482  65.47948563  54.22392228 108.0102185\n",
      "   25.11847846   0.        ]\n",
      " [ 55.84328595  28.84744756  47.69054322  26.99583839 123.3118449\n",
      "    2.81242686   0.        ]\n",
      " [ 36.12568347  22.75875277  29.          13.3669307  115.5771163\n",
      "   -3.23756249   0.        ]\n",
      " [ 71.00194076  37.51577195  84.53709256  33.48616882 125.1642324\n",
      "   67.77118983   0.        ]\n",
      " [ 86.04127982  38.75066978  47.87140494  47.29061004 122.0929536\n",
      "   61.98827709   0.        ]\n",
      " [ 66.87921138  24.89199889  49.27859673  41.9872125  113.4770183\n",
      "   -2.00589175   0.        ]\n",
      " [ 41.72996308  12.25407408  30.12258646  29.475889   116.5857056\n",
      "   -1.24440249   0.        ]\n",
      " [ 77.12134424  30.3498745   77.48108264  46.77146974 110.6111484\n",
      "   82.09360704   0.        ]\n",
      " [ 85.09550254  21.06989651  91.73479193  64.02560604 109.062312\n",
      "   38.03283108   0.        ]\n",
      " [ 78.49173027  22.1817978   59.99999999  56.30993248 118.5303266\n",
      "   27.38321314   0.        ]\n",
      " [ 83.93300857  41.28630543  61.99999999  42.64670314 115.012334\n",
      "   26.58810016   0.        ]\n",
      " [ 40.25019968  13.92190658  25.1249496   26.32829311 130.3278713\n",
      "    2.23065173   0.        ]\n",
      " [ 85.58171024  30.45703858  78.23137949  55.12467166 114.8660487\n",
      "   68.37612182   0.        ]\n",
      " [ 43.34960621   7.46746896  28.06548279  35.88213725 112.7761866\n",
      "    5.75327746   0.        ]\n",
      " [ 74.72074622  19.75694203  82.73535954  54.96380419 109.3565941\n",
      "   33.30606685   0.        ]\n",
      " [ 48.90290434   5.58758866  55.49999999  43.31531568 137.1082886\n",
      "   19.85475919   1.        ]\n",
      " [ 33.78884314   3.67510999  25.5         30.11373315 128.3253556\n",
      "   -1.77611123   1.        ]\n",
      " [ 50.08615264  13.43004422  34.45754051  36.65610842 119.1346221\n",
      "    3.08948446   1.        ]\n",
      " [ 67.53818154  14.65504222  58.00142908  52.88313932 123.6322597\n",
      "   25.9702063    1.        ]\n",
      " [ 72.95564397  19.57697146  61.00707117  53.37867251 111.2340468\n",
      "    0.81349115   1.        ]\n",
      " [ 50.75329025  20.23505957  37.          30.51823068 122.343516\n",
      "    2.28848775   1.        ]\n",
      " [ 43.11795103  13.81574355  40.34738779  29.30220748 128.5177217\n",
      "    0.97092641   1.        ]\n",
      " [ 36.42248549  13.87942449  20.24256187  22.543061   126.0768612\n",
      "    0.17971708   1.        ]\n",
      " [ 44.48927476  21.78643263  31.47415392  22.70284212 113.7784936\n",
      "   -0.28412937   1.        ]\n",
      " [ 38.50527283  16.96429691  35.11281407  21.54097592 127.6328747\n",
      "    7.98668323   1.        ]\n",
      " [ 38.04655072   8.30166942  26.23683004  29.7448813  123.8034132\n",
      "    3.88577349   1.        ]\n",
      " [ 41.6469159    8.8355491   36.03197484  32.8113668  116.5551679\n",
      "   -6.05453796   1.        ]\n",
      " [ 48.99595771  13.11382047  51.87351997  35.88213725 126.3981876\n",
      "    0.53547162   1.        ]\n",
      " [ 34.64992241   7.51478278  42.99999999  27.13513962 123.9877408\n",
      "   -4.0829376    1.        ]\n",
      " [ 50.67667667   6.46150127  35.          44.2151754  116.5879699\n",
      "   -0.21471061   1.        ]\n",
      " [ 45.70178875  10.65985935  42.5778464   35.0419294  130.1783144\n",
      "   -3.38890999   1.        ]\n",
      " [ 61.73487533  17.11431203  46.89999999  44.6205633  120.9201997\n",
      "    3.087726     1.        ]\n",
      " [ 33.04168754  -0.32467846  19.0710746   33.366366   120.3886112\n",
      "    9.35436493   1.        ]\n",
      " [ 56.10377352  13.10630665  62.63701952  42.99746687 116.2285032\n",
      "   31.17276727   1.        ]\n",
      " [ 51.52935759  13.51784732  35.          38.01151027 126.7185156\n",
      "   13.92833085   1.        ]\n",
      " [ 48.17074627   9.5942167   39.71092029  38.57652956 135.6233101\n",
      "    5.36005057   1.        ]\n",
      " [ 66.50717865  20.89767207  31.72747138  45.60950658 128.9029049\n",
      "    1.51720336   1.        ]\n",
      " [ 61.82162717  13.59710457  63.99999999  48.22452261 121.779803\n",
      "    1.29619119   1.        ]\n",
      " [ 42.91804052  -5.84599434  57.99999999  48.76403486 121.6068586\n",
      "   -3.36204465   1.        ]\n",
      " [ 48.80190855  18.01776202  51.99999999  30.78414653 139.1504066\n",
      "   10.44286169   1.        ]\n",
      " [ 59.72614016   7.7248726   55.34348527  52.00126756 125.1742214\n",
      "    3.23515922   1.        ]\n",
      " [ 36.15782981  -0.81051409  33.62731353  36.96834391 135.9369096\n",
      "   -2.0925065    1.        ]\n",
      " [ 53.93674778  20.72149628  29.22053381  33.21525149 114.365845\n",
      "   -0.42101039   1.        ]\n",
      " [ 64.31186727  26.32836901  50.95896417  37.98349826 106.1777511\n",
      "    3.11822129   1.        ]\n",
      " [ 53.68337998  13.44702168  41.58429713  40.23635831 113.9137026\n",
      "    2.73703529   1.        ]]\n"
     ]
    }
   ],
   "source": [
    "#留出法\n",
    "\n",
    "#将label标签内容进行数字编码,未匹配的标签填充为-1\n",
    "dataframe['class'] = dataframe['class'].map({'Abnormal': 0, 'Normal': 1}).fillna(-1)\n",
    "\n",
    "# 获取特征(除最后一列外的所有列)和标签列(最后一列)\n",
    "features = dataframe.iloc[:, :-1]\n",
    "labels = dataframe.iloc[:, -1]\n",
    "\n",
    "# 计算测试集每个类别的样本比例，假设为 30%\n",
    "test_ratio = 0.3\n",
    "\n",
    "# 计算测试集每个类别的样本数量\n",
    "test_samples_per_class = (labels.value_counts() * test_ratio).astype(int)\n",
    "\n",
    "# 初始化测试集和训练集\n",
    "train_data_ho = pd.DataFrame()\n",
    "test_data_ho = pd.DataFrame()\n",
    "\n",
    "# 根据标签的分布进行采样\n",
    "for label, count in test_samples_per_class.items():\n",
    "    class_samples = dataframe[dataframe['class'] == label].sample(n=count, random_state=42)\n",
    "    test_data_ho = test_data_ho.append(class_samples)\n",
    "    train_data_ho = train_data_ho.append(dataframe[dataframe['class'] == label].drop(class_samples.index))\n",
    "\n",
    "# 获取训练集和测试集的特征和标签\n",
    "train_features_ho = train_data_ho.iloc[:, :-1]\n",
    "train_labels_ho = train_data_ho.iloc[:, -1]\n",
    "test_features_ho = test_data_ho.iloc[:, :-1]\n",
    "test_labels_ho = test_data_ho.iloc[:, -1]\n",
    "\n",
    "# 打印训练集和测试集大小\n",
    "print(\"Train data number of Hold-Out: \", len(train_data_ho))\n",
    "print(\"Test data number of Hold-Out: \", len(test_data_ho))\n",
    "\n",
    "#打印训练集和测试集\n",
    "print(\"Train data of Hold-Out: \", np.array(train_data_ho))\n",
    "print(\"Test data of Hold-Out: \", np.array(test_data_ho))\n"
   ]
  },
  {
   "cell_type": "code",
   "execution_count": 8,
   "id": "ed73ac40",
   "metadata": {},
   "outputs": [
    {
     "name": "stdout",
     "output_type": "stream",
     "text": [
      "第 1 折的测试集:  Int64Index([220, 300,  30, 214, 155, 232, 165, 207, 142, 287, 192, 196, 249,\n",
      "            126,  67, 104, 199,  18, 283,   9,  45,  69,  60, 255,  93, 228,\n",
      "            180, 240, 162, 286,  73, 197, 125,  25, 108, 280, 187, 101, 243,\n",
      "            263,  95, 173, 254, 172,  55,  84, 290, 159, 132, 109, 222, 136,\n",
      "            147, 168, 241,  75, 182, 293,  15,  16, 210,  82],\n",
      "           dtype='int64')\n",
      "第 2 折的测试集:  Int64Index([219, 303, 150, 215,  86, 250,  65,  19,  31, 275, 115, 183, 225,\n",
      "            135,  51, 118,  68,   5, 295,  24, 100,  98, 156, 252,  56, 221,\n",
      "             76, 257,  26, 276,  66, 124,  35,  12, 208, 236,  29, 143, 238,\n",
      "            298,  41,  42, 279,  96, 128, 200, 306,  78, 170, 205, 245, 117,\n",
      "             79, 146, 226,  97,  38, 265, 139,  28, 282, 203],\n",
      "           dtype='int64')\n",
      "第 3 折的测试集:  Int64Index([272, 218, 140, 288,  46, 291, 111, 119, 144, 274, 120,  85, 229,\n",
      "             61,  10,  62,   2,  33, 227,  90, 127, 194,  77, 305, 204, 234,\n",
      "            153, 213,  70, 216, 138, 184,  32,   4, 201, 217,  36, 114, 248,\n",
      "            244, 176, 152, 237, 178,   6, 122, 235, 189, 148, 171, 246, 141,\n",
      "             27,  11, 299, 167, 112, 259,  22, 113, 223,   0],\n",
      "           dtype='int64')\n",
      "第 4 折的测试集:  Int64Index([271, 308, 163, 267, 123, 256, 145,  47,  80, 242,  83,  81, 277,\n",
      "             94,  89,   8, 137,   3, 268, 154,  23, 186,  40, 253,  53, 289,\n",
      "             59, 251,  72, 285,  43, 166,   7,  34,  49, 264, 177, 191, 258,\n",
      "            309, 181,  91, 260,  64, 190,  44, 278,  17,  13, 195, 304,  39,\n",
      "            164, 105, 269, 133, 158, 266, 161, 110, 307, 131],\n",
      "           dtype='int64')\n",
      "第 5 折的测试集:  Int64Index([233, 230, 185, 270,  54, 231, 160,  48, 130, 224,  87, 206, 262,\n",
      "             88, 209,  20, 193, 202, 296, 174, 107,  74,  63, 239,  37, 301,\n",
      "             71, 284, 102, 281,  57, 179, 103, 151, 149, 247,  58, 121, 292,\n",
      "            294, 106, 116, 211, 134, 198, 175, 212,  92, 188,  52, 302, 169,\n",
      "              1, 129, 261, 157,  50, 273,  21,  99, 297,  14],\n",
      "           dtype='int64')\n"
     ]
    }
   ],
   "source": [
    "#交叉验证法\n",
    "\n",
    "# 将数据按照标签分为两类\n",
    "class_0_samples = dataframe[dataframe['class'] == 0]\n",
    "class_1_samples = dataframe[dataframe['class'] == 1]\n",
    "\n",
    "# 将每一类别的样本随机排序\n",
    "class_0_samples = class_0_samples.sample(frac=1, random_state=42)\n",
    "class_1_samples = class_1_samples.sample(frac=1, random_state=42)\n",
    "\n",
    "# 进行 5 折交叉验证\n",
    "k = 5\n",
    "\n",
    "# 初始化训练集和测试集的列表\n",
    "train_data_kf = []\n",
    "test_data_kf = []\n",
    "\n",
    "for i in range(k):\n",
    "    # 初始化当前折的训练集和测试集\n",
    "    train_fold = pd.DataFrame()\n",
    "    test_fold = pd.DataFrame()\n",
    "\n",
    "    # 计算当前折中每个类别的样本数量\n",
    "    class_0_fold_size = len(class_0_samples) // k\n",
    "    class_1_fold_size = len(class_1_samples) // k\n",
    "    \n",
    "    # 添加当前折中每个类别的样本到测试集\n",
    "    test_fold = test_fold.append(class_0_samples[i * class_0_fold_size: (i + 1) * class_0_fold_size])\n",
    "    test_fold = test_fold.append(class_1_samples[i * class_1_fold_size: (i + 1) * class_1_fold_size])\n",
    "    \n",
    "    # 添加剩余样本到训练集\n",
    "    train_fold = dataframe.drop(test_fold.index)\n",
    "\n",
    "    # 打乱训练集和测试集的顺序，以便更好的随机性\n",
    "    train_fold = train_fold.sample(frac=1, random_state=42)\n",
    "    test_fold = test_fold.sample(frac=1, random_state=42)\n",
    "\n",
    "    # 将当前折的训练集和测试集添加到列表\n",
    "    train_data_kf.append(train_fold)\n",
    "    test_data_kf.append(test_fold)\n",
    "\n",
    "# 打印每一折的测试集索引，可以看到均为不重复样本\n",
    "for i in range(k):\n",
    "    print(\"第\", i+1, \"折的测试集: \", (test_data_kf[i].index))"
   ]
  },
  {
   "cell_type": "code",
   "execution_count": 9,
   "id": "4ddd000a",
   "metadata": {},
   "outputs": [
    {
     "name": "stdout",
     "output_type": "stream",
     "text": [
      "训练集大小:  310\n",
      "测试集大小:  113\n"
     ]
    }
   ],
   "source": [
    "#自助法\n",
    "\n",
    "# 创建自助样本集\n",
    "num_samples = dataframe.shape[0]\n",
    "train_data_bs = []\n",
    "test_data_bs = []\n",
    "\n",
    "for i in range(num_samples):\n",
    "    index = random.randint(0, num_samples-1)\n",
    "    train_data_bs.append(dataframe.iloc[index])\n",
    "\n",
    "# 创建测试集（排除训练集中已存在的样本）\n",
    "for _, row in dataframe.iterrows():\n",
    "    is_in_train_data = False\n",
    "    for train_row in train_data_bs:\n",
    "        if row.equals(train_row):\n",
    "            is_in_train_data = True\n",
    "            break\n",
    "    if not is_in_train_data:\n",
    "        test_data_bs.append(row)\n",
    "\n",
    "# 打印训练集和测试集大小\n",
    "print(\"训练集大小: \", len(train_data_bs))\n",
    "print(\"测试集大小: \", len(test_data_bs))\n"
   ]
  },
  {
   "cell_type": "markdown",
   "id": "aafd898f",
   "metadata": {},
   "source": [
    "<span style=\"color:purple\">3)请分别在三种数据划分方式(留出法、交叉验证法、自助法)所划分出训练集和测试集下训练逻辑回归模型,并测试错误率\\精度</span>"
   ]
  },
  {
   "cell_type": "code",
   "execution_count": 10,
   "id": "1e53fad3",
   "metadata": {},
   "outputs": [
    {
     "name": "stdout",
     "output_type": "stream",
     "text": [
      "最终参数 w: [-0.08100194 -0.47022041 -1.21469161  0.55904468  0.7444712  -0.11105006\n",
      " -2.17443887]\n",
      "错误率: 0.21505376344086022\n",
      "精度: 0.7849462365591398\n"
     ]
    }
   ],
   "source": [
    "#留出法测试精度\n",
    "#your code here\n",
    "\n",
    "# 分离 x1 列、 x2 列和标签列\n",
    "x1_ho_train = train_data_ho['pelvic_incidence']\n",
    "x2_ho_train = train_data_ho['pelvic_tilt numeric']\n",
    "x3_ho_train = train_data_ho['lumbar_lordosis_angle']\n",
    "x4_ho_train = train_data_ho['sacral_slope']\n",
    "x5_ho_train = train_data_ho['pelvic_radius']\n",
    "x6_ho_train = train_data_ho['degree_spondylolisthesis']\n",
    "y_ho_train  = train_data_ho['class']\n",
    "\n",
    "# 往特征中加入一列全1的特征量\n",
    "X_ho_train = np.column_stack((x1_ho_train,x2_ho_train,x3_ho_train,x4_ho_train,x5_ho_train,x6_ho_train))\n",
    "X_ho_train = np.c_[np.ones(X_ho_train.shape[0]), X_ho_train]\n",
    "\n",
    "# 获取数据长度\n",
    "m_ho_train = len(y_ho_train)\n",
    "\n",
    "# 初始化权重参数 𝜔\n",
    "w_ho_train = [0.0, 0.0, 0.0, 0.0, 0.0, 0.0, 0.0]\n",
    "\n",
    "# 超参数(学习率、小批量大小、迭代次数)设置\n",
    "learning_rate = 0.01\n",
    "max_epochs = 1000\n",
    "\n",
    "# 用于记录损失值\n",
    "loss_history = []\n",
    "\n",
    "for epoch in range(max_epochs):\n",
    "    # 计算预测值\n",
    "    z = np.dot(X_ho_train, w_ho_train)\n",
    "    y_pred =1 / (1 + np.exp(-z))\n",
    "    \n",
    "    # 计算梯度\n",
    "    gradient = np.dot(X_ho_train.T, (y_pred - y_ho_train)) / m_ho_train\n",
    "\n",
    "    # 更新权重参数\n",
    "    w_ho_train -= learning_rate * gradient\n",
    "    \n",
    "# 打印最终参数 w\n",
    "print(\"最终参数 w:\", w_ho_train)\n",
    "\n",
    "\n",
    "# 分离 x1 列、 x2 列和标签列\n",
    "x1_ho_test = test_data_ho['pelvic_incidence']\n",
    "x2_ho_test = test_data_ho['pelvic_tilt numeric']\n",
    "x3_ho_test = test_data_ho['lumbar_lordosis_angle']\n",
    "x4_ho_test = test_data_ho['sacral_slope']\n",
    "x5_ho_test = test_data_ho['pelvic_radius']\n",
    "x6_ho_test = test_data_ho['degree_spondylolisthesis']\n",
    "y_ho_test = test_data_ho['class']\n",
    "\n",
    "# 往特征中加入一列全1的特征量\n",
    "X_ho_test = np.column_stack((x1_ho_test, x2_ho_test, x3_ho_test, x4_ho_test, x5_ho_test, x6_ho_test))\n",
    "X_ho_test = np.c_[np.ones(X_ho_test.shape[0]), X_ho_test]\n",
    "\n",
    "# 计算测试集上的预测值\n",
    "z_ho_test = np.dot(X_ho_test, w_ho_train)\n",
    "y_pred_ho_test = 1 / (1 + np.exp(-z_ho_test))\n",
    "\n",
    "# 将预测概率转化为类别标签\n",
    "y_pred_ho_test[y_pred_ho_test >= 0.5] = 1\n",
    "y_pred_ho_test[y_pred_ho_test < 0.5] = 0\n",
    "\n",
    "# 计算错误分类的样本数量\n",
    "misclassified_samples = np.sum(y_pred_ho_test != y_ho_test)\n",
    "\n",
    "# 计算错误率和精度\n",
    "error_rate_ho = misclassified_samples / len(y_ho_test)\n",
    "accuracy_ho = 1 - error_rate_ho\n",
    "\n",
    "print(\"错误率:\", error_rate_ho)\n",
    "print(\"精度:\", accuracy_ho)\n"
   ]
  },
  {
   "cell_type": "code",
   "execution_count": 11,
   "id": "bc44de73",
   "metadata": {},
   "outputs": [
    {
     "name": "stdout",
     "output_type": "stream",
     "text": [
      "平均错误率: 0.22903225806451621\n",
      "平均精度: 0.7709677419354838\n"
     ]
    }
   ],
   "source": [
    "#交叉验证法\n",
    "#your code here\n",
    "#每次选用一个子集作为测试集，剩余k-1个子集的并集作为训练集，所以需要每轮都进行测试\n",
    "#可以使用k个轮次的精度的平均精度作为本方法的最终精度\n",
    "# 初始化一个列表来存储每个折的精度\n",
    "# 交叉验证的折数\n",
    "k = 5\n",
    "\n",
    "# 初始化一个列表来存储每个折的精度\n",
    "accuracy_scores = []\n",
    "\n",
    "for i in range(k):\n",
    "    # 获取当前折的训练集和测试集\n",
    "    train_fold = train_data_kf[i]\n",
    "    test_fold = test_data_kf[i]\n",
    "\n",
    "    # 分离 x 和 y\n",
    "    x_train_kf = train_fold.drop('class', axis=1)\n",
    "    y_train_kf = train_fold['class']\n",
    "    x_test_kf = test_fold.drop('class', axis=1)\n",
    "    y_test_kf = test_fold['class']\n",
    "\n",
    "    # 往特征中加入一列全1的特征量\n",
    "    X_train = np.column_stack((x_train_kf['pelvic_incidence'], x_train_kf['pelvic_tilt numeric'], x_train_kf['lumbar_lordosis_angle'],\n",
    "                                x_train_kf['sacral_slope'], x_train_kf['pelvic_radius'], x_train_kf['degree_spondylolisthesis']))\n",
    "    X_train = np.c_[np.ones(X_train.shape[0]), X_train]\n",
    "\n",
    "    # 获取数据长度\n",
    "    m_kf_train = len(y_train_kf)\n",
    "\n",
    "    # 初始化权重参数 𝜔\n",
    "    w_kf_train = [0.0, 0.0, 0.0, 0.0, 0.0, 0.0, 0.0]\n",
    "\n",
    "    # 超参数(学习率、迭代次数)设置\n",
    "    learning_rate = 0.01\n",
    "    max_epochs = 1000\n",
    "\n",
    "    # 用于记录损失值\n",
    "    loss_history = []\n",
    "\n",
    "    for epoch in range(max_epochs):\n",
    "        # 计算预测值\n",
    "        z = np.dot(X_train, w_kf_train)\n",
    "        y_pred = 1 / (1 + np.exp(-z))\n",
    "\n",
    "        # 计算梯度\n",
    "        gradient = np.dot(X_train.T, (y_pred - y_train_kf)) / m_kf_train\n",
    "\n",
    "        # 更新权重参数\n",
    "        w_kf_train -= learning_rate * gradient\n",
    "\n",
    "    # 使用训练好的参数在测试集上进行预测\n",
    "    X_test = np.column_stack((x_test_kf['pelvic_incidence'], x_test_kf['pelvic_tilt numeric'], x_test_kf['lumbar_lordosis_angle'],\n",
    "                              x_test_kf['sacral_slope'], x_test_kf['pelvic_radius'], x_test_kf['degree_spondylolisthesis']))\n",
    "    X_test = np.c_[np.ones(X_test.shape[0]), X_test]\n",
    "\n",
    "    z_test = np.dot(X_test, w_kf_train)\n",
    "    y_pred_test = 1 / (1 + np.exp(-z_test))\n",
    "    y_pred_test[y_pred_test >= 0.5] = 1\n",
    "    y_pred_test[y_pred_test < 0.5] = 0\n",
    "\n",
    "    # 计算当前折的精度\n",
    "    correct_predictions = np.sum(y_pred_test == y_test_kf)\n",
    "    total_samples = len(y_test_kf)\n",
    "    accuracy = correct_predictions / total_samples\n",
    "    accuracy_scores.append(accuracy)\n",
    "\n",
    "# 计算平均精度\n",
    "accuracy_kf = np.mean(accuracy_scores)\n",
    "\n",
    "# 计算平均错误率\n",
    "error_rate_kf = 1 - accuracy_kf\n",
    "\n",
    "print(\"平均错误率:\", error_rate_kf)\n",
    "print(\"平均精度:\", accuracy_kf)\n",
    "\n"
   ]
  },
  {
   "cell_type": "code",
   "execution_count": 12,
   "id": "ffed0858",
   "metadata": {},
   "outputs": [
    {
     "name": "stdout",
     "output_type": "stream",
     "text": [
      "自助法的错误率: 0.24778761061946908\n",
      "自助法的精度: 0.7522123893805309\n"
     ]
    }
   ],
   "source": [
    "#自助法测试精度\n",
    "# 训练集和测试集的数据准备\n",
    "train_data_bs = pd.DataFrame(train_data_bs, columns=dataframe.columns)\n",
    "test_data_bs = pd.DataFrame(test_data_bs, columns=dataframe.columns)\n",
    "\n",
    "# 分离 x 和 y\n",
    "x_train_bs = train_data_bs.drop('class', axis=1)\n",
    "y_train_bs = train_data_bs['class']\n",
    "x_test_bs = test_data_bs.drop('class', axis=1)\n",
    "y_test_bs = test_data_bs['class']\n",
    "\n",
    "# 往特征中加入一列全1的特征量\n",
    "X_train_bs = np.column_stack((x_train_bs['pelvic_incidence'], x_train_bs['pelvic_tilt numeric'], x_train_bs['lumbar_lordosis_angle'],\n",
    "                              x_train_bs['sacral_slope'], x_train_bs['pelvic_radius'], x_train_bs['degree_spondylolisthesis']))\n",
    "X_train_bs = np.c_[np.ones(X_train_bs.shape[0]), X_train_bs]\n",
    "\n",
    "# 获取数据长度\n",
    "m_bs_train = len(y_train_bs)\n",
    "\n",
    "# 初始化权重参数 𝜔\n",
    "w_bs_train = [0.0, 0.0, 0.0, 0.0, 0.0, 0.0, 0.0]\n",
    "\n",
    "# 超参数(学习率、迭代次数)设置\n",
    "learning_rate_bs = 0.01\n",
    "max_epochs_bs = 1000\n",
    "\n",
    "# 用于记录损失值\n",
    "loss_history_bs = []\n",
    "\n",
    "for epoch in range(max_epochs_bs):\n",
    "    # 计算预测值\n",
    "    z_bs = np.dot(X_train_bs, w_bs_train)\n",
    "    y_pred_bs = 1 / (1 + np.exp(-z_bs))\n",
    "\n",
    "    # 计算梯度\n",
    "    gradient_bs = np.dot(X_train_bs.T, (y_pred_bs - y_train_bs)) / m_bs_train\n",
    "\n",
    "    # 更新权重参数\n",
    "    w_bs_train -= learning_rate_bs * gradient_bs\n",
    "\n",
    "# 使用训练好的参数在测试集上进行预测\n",
    "X_test_bs = np.column_stack((x_test_bs['pelvic_incidence'], x_test_bs['pelvic_tilt numeric'], x_test_bs['lumbar_lordosis_angle'],\n",
    "                            x_test_bs['sacral_slope'], x_test_bs['pelvic_radius'], x_test_bs['degree_spondylolisthesis']))\n",
    "X_test_bs = np.c_[np.ones(X_test_bs.shape[0]), X_test_bs]\n",
    "\n",
    "z_test_bs = np.dot(X_test_bs, w_bs_train)\n",
    "y_pred_test_bs = 1 / (1 + np.exp(-z_test_bs))\n",
    "y_pred_test_bs[y_pred_test_bs >= 0.5] = 1\n",
    "y_pred_test_bs[y_pred_test_bs < 0.5] = 0\n",
    "\n",
    "# 计算自助法的精度和错误率\n",
    "correct_predictions_bs = np.sum(y_pred_test_bs == y_test_bs)\n",
    "total_samples_bs = len(y_test_bs)\n",
    "accuracy_bs = correct_predictions_bs / total_samples_bs\n",
    "error_rate_bs = 1 - accuracy_bs\n",
    "\n",
    "print(\"自助法的错误率:\", error_rate_bs)\n",
    "print(\"自助法的精度:\", accuracy_bs)\n"
   ]
  },
  {
   "cell_type": "markdown",
   "id": "08220be6",
   "metadata": {},
   "source": [
    "<span style=\"color:purple\">4)按照错误率\\精度的性能指标判断出性能【最好】和性能【最差】的数据划分方式</span>"
   ]
  },
  {
   "cell_type": "code",
   "execution_count": 13,
   "id": "9eaf7af7",
   "metadata": {},
   "outputs": [
    {
     "name": "stdout",
     "output_type": "stream",
     "text": [
      "留出法精度: 0.7849462365591398\n",
      "交叉验证法平均精度: 0.7709677419354838\n",
      "自助法精度: 0.7522123893805309\n"
     ]
    }
   ],
   "source": [
    "#your code here\n",
    "print(\"留出法精度:\", accuracy_ho)\n",
    "print(\"交叉验证法平均精度:\", accuracy_kf)\n",
    "print(\"自助法精度:\", accuracy_bs)"
   ]
  },
  {
   "cell_type": "markdown",
   "id": "8640fb46",
   "metadata": {},
   "source": [
    "<span style=\"color:purple\">5)在【留出法】和【自助法】中选出性能更好的数据划分方式，画出其对应的P-R曲线和ROC曲线,并计算各个点的F1度量</span>"
   ]
  },
  {
   "cell_type": "code",
   "execution_count": 14,
   "id": "4133f263",
   "metadata": {},
   "outputs": [],
   "source": [
    "# 计算测试集上的预测值\n",
    "z_ho_test = np.dot(X_ho_test, w_ho_train)\n",
    "y_pred_ho_test_origin = 1 / (1 + np.exp(-z_ho_test))\n",
    "\n",
    "\n",
    "# 按预测概率(score)降序排列\n",
    "indices = np.argsort(y_pred_ho_test_origin, kind=\"mergesort\")[::-1]\n",
    "y_score = y_pred_ho_test_origin[indices]\n",
    "y_true = y_ho_test.values[indices]\n",
    "\n",
    "# 概率(score)阈值, 取所有概率中不相同的\n",
    "distinct_value_indices = np.where(np.diff(y_score))[0]\n",
    "threshold_idxs = np.r_[distinct_value_indices, y_true.size - 1]\n",
    "thresholds = y_score[threshold_idxs]\n",
    "\n",
    "# 累计求和, 得到不同阈值下的 tps, fps\n",
    "tps = np.cumsum(y_true)\n",
    "fps = 1 + threshold_idxs - tps\n"
   ]
  },
  {
   "cell_type": "code",
   "execution_count": 15,
   "id": "4f9bc757",
   "metadata": {},
   "outputs": [
    {
     "data": {
      "image/png": "[encoded data removed]",
      "text/plain": [
       "<Figure size 800x600 with 1 Axes>"
      ]
     },
     "metadata": {},
     "output_type": "display_data"
    }
   ],
   "source": [
    "#your code here\n",
    "#画出P-R曲线\n",
    "\n",
    "# 计算查准率和查全率\n",
    "precision = tps / (tps + fps)\n",
    "precision[np.isnan(precision)] = 0\n",
    "recall = tps / tps[-1]\n",
    "\n",
    "# 绘制PR曲线\n",
    "plt.figure(figsize=(8, 6))\n",
    "plt.plot(recall, precision, marker='.')\n",
    "plt.xlabel('Recall')\n",
    "plt.ylabel('Precision')\n",
    "plt.title('Precision-Recall Curve')\n",
    "plt.grid(True)\n",
    "plt.show()\n",
    "\n",
    "\n"
   ]
  },
  {
   "cell_type": "code",
   "execution_count": 16,
   "id": "e066f67e",
   "metadata": {},
   "outputs": [
    {
     "name": "stdout",
     "output_type": "stream",
     "text": [
      "阈值: 1.0000, F1度量: 0.0645\n",
      "阈值: 1.0000, F1度量: 0.1250\n",
      "阈值: 1.0000, F1度量: 0.1818\n",
      "阈值: 1.0000, F1度量: 0.2353\n",
      "阈值: 1.0000, F1度量: 0.2286\n",
      "阈值: 1.0000, F1度量: 0.2778\n",
      "阈值: 0.9999, F1度量: 0.3243\n",
      "阈值: 0.9997, F1度量: 0.3684\n",
      "阈值: 0.9997, F1度量: 0.4103\n",
      "阈值: 0.9971, F1度量: 0.4500\n",
      "阈值: 0.8259, F1度量: 0.4878\n",
      "阈值: 0.8120, F1度量: 0.5238\n",
      "阈值: 0.0436, F1度量: 0.5116\n",
      "阈值: 0.0219, F1度量: 0.5000\n",
      "阈值: 0.0024, F1度量: 0.4889\n",
      "阈值: 0.0009, F1度量: 0.5217\n",
      "阈值: 0.0001, F1度量: 0.5532\n",
      "阈值: 0.0000, F1度量: 0.5833\n",
      "阈值: 0.0000, F1度量: 0.6122\n",
      "阈值: 0.0000, F1度量: 0.6000\n",
      "阈值: 0.0000, F1度量: 0.5882\n",
      "阈值: 0.0000, F1度量: 0.5769\n",
      "阈值: 0.0000, F1度量: 0.6038\n",
      "阈值: 0.0000, F1度量: 0.6296\n",
      "阈值: 0.0000, F1度量: 0.6545\n",
      "阈值: 0.0000, F1度量: 0.6429\n",
      "阈值: 0.0000, F1度量: 0.6316\n",
      "阈值: 0.0000, F1度量: 0.6207\n",
      "阈值: 0.0000, F1度量: 0.6441\n",
      "阈值: 0.0000, F1度量: 0.6667\n",
      "阈值: 0.0000, F1度量: 0.6557\n",
      "阈值: 0.0000, F1度量: 0.6774\n",
      "阈值: 0.0000, F1度量: 0.6984\n",
      "阈值: 0.0000, F1度量: 0.7188\n",
      "阈值: 0.0000, F1度量: 0.7077\n",
      "阈值: 0.0000, F1度量: 0.7273\n",
      "阈值: 0.0000, F1度量: 0.7463\n",
      "阈值: 0.0000, F1度量: 0.7353\n",
      "阈值: 0.0000, F1度量: 0.7246\n",
      "阈值: 0.0000, F1度量: 0.7143\n",
      "阈值: 0.0000, F1度量: 0.7324\n",
      "阈值: 0.0000, F1度量: 0.7222\n",
      "阈值: 0.0000, F1度量: 0.7123\n",
      "阈值: 0.0000, F1度量: 0.7027\n",
      "阈值: 0.0000, F1度量: 0.7200\n",
      "阈值: 0.0000, F1度量: 0.7368\n",
      "阈值: 0.0000, F1度量: 0.7273\n",
      "阈值: 0.0000, F1度量: 0.7179\n",
      "阈值: 0.0000, F1度量: 0.7089\n",
      "阈值: 0.0000, F1度量: 0.7250\n",
      "阈值: 0.0000, F1度量: 0.7160\n",
      "阈值: 0.0000, F1度量: 0.7317\n",
      "阈值: 0.0000, F1度量: 0.7229\n",
      "阈值: 0.0000, F1度量: 0.7143\n",
      "阈值: 0.0000, F1度量: 0.7059\n",
      "阈值: 0.0000, F1度量: 0.6977\n",
      "阈值: 0.0000, F1度量: 0.6897\n",
      "阈值: 0.0000, F1度量: 0.6818\n",
      "阈值: 0.0000, F1度量: 0.6742\n",
      "阈值: 0.0000, F1度量: 0.6667\n",
      "阈值: 0.0000, F1度量: 0.6593\n",
      "阈值: 0.0000, F1度量: 0.6522\n",
      "阈值: 0.0000, F1度量: 0.6452\n",
      "阈值: 0.0000, F1度量: 0.6383\n",
      "阈值: 0.0000, F1度量: 0.6316\n",
      "阈值: 0.0000, F1度量: 0.6250\n",
      "阈值: 0.0000, F1度量: 0.6186\n",
      "阈值: 0.0000, F1度量: 0.6122\n",
      "阈值: 0.0000, F1度量: 0.6061\n",
      "阈值: 0.0000, F1度量: 0.6000\n",
      "阈值: 0.0000, F1度量: 0.5941\n",
      "阈值: 0.0000, F1度量: 0.5882\n",
      "阈值: 0.0000, F1度量: 0.5825\n",
      "阈值: 0.0000, F1度量: 0.5769\n",
      "阈值: 0.0000, F1度量: 0.5714\n",
      "阈值: 0.0000, F1度量: 0.5660\n",
      "阈值: 0.0000, F1度量: 0.5607\n",
      "阈值: 0.0000, F1度量: 0.5556\n",
      "阈值: 0.0000, F1度量: 0.5505\n",
      "阈值: 0.0000, F1度量: 0.5455\n",
      "阈值: 0.0000, F1度量: 0.5405\n",
      "阈值: 0.0000, F1度量: 0.5357\n",
      "阈值: 0.0000, F1度量: 0.5310\n",
      "阈值: 0.0000, F1度量: 0.5263\n",
      "阈值: 0.0000, F1度量: 0.5217\n",
      "阈值: 0.0000, F1度量: 0.5172\n",
      "阈值: 0.0000, F1度量: 0.5128\n",
      "阈值: 0.0000, F1度量: 0.5085\n",
      "阈值: 0.0000, F1度量: 0.5042\n",
      "阈值: 0.0000, F1度量: 0.5000\n",
      "阈值: 0.0000, F1度量: 0.4959\n",
      "阈值: 0.0000, F1度量: 0.4918\n",
      "阈值: 0.0000, F1度量: 0.4878\n"
     ]
    }
   ],
   "source": [
    "#your code here\n",
    "# 计算F1值\n",
    "f1_list = []\n",
    "for i in range(len(precision)):\n",
    "    if precision[i] + recall[i] == 0:\n",
    "        f1_list.append(0)\n",
    "    else:\n",
    "        f1 = 2 * (precision[i] * recall[i]) / (precision[i] + recall[i])\n",
    "        f1_list.append(f1)\n",
    "\n",
    "# 打印各个阈值下的 F1 度量值\n",
    "for i in range(len(thresholds)):\n",
    "    print(f\"阈值: {thresholds[i]:.4f}, F1度量: {f1_list[i]:.4f}\")"
   ]
  },
  {
   "cell_type": "code",
   "execution_count": 17,
   "id": "cabcc6f5",
   "metadata": {},
   "outputs": [
    {
     "data": {
      "image/png": "[encoded data removed]",
      "text/plain": [
       "<Figure size 800x600 with 1 Axes>"
      ]
     },
     "metadata": {},
     "output_type": "display_data"
    }
   ],
   "source": [
    "#your code here\n",
    "#画出ROC曲线\n",
    "\n",
    "# 计算真正例率和假正例率\n",
    "tpr = tps / tps[-1]\n",
    "fpr = fps / fps[-1]\n",
    "\n",
    "# 绘制ROC曲线\n",
    "plt.figure(figsize=(8, 6))\n",
    "plt.plot(fpr, tpr, marker='.')\n",
    "plt.xlabel('False Positive Rate (FPR)')\n",
    "plt.ylabel('True Positive Rate (TPR)')\n",
    "plt.title('ROC Curve')\n",
    "plt.grid(True)\n",
    "plt.show()\n",
    "\n"
   ]
  },
  {
   "cell_type": "markdown",
   "id": "a14b4241",
   "metadata": {},
   "source": [
    "**<font color = blue size=4>第五部分:作业提交</font>**"
   ]
  },
  {
   "cell_type": "markdown",
   "id": "1774127e",
   "metadata": {},
   "source": [
    "<span style=\"color:purple\">1) 实验报告提交地址 (格式: 学号+姓名+实验四): https://send2me.cn/4-3oEngJ/Qp-icPERnYPjPQ ,\n",
    "    下周因为国庆假期所以实验课不上，本次实验报告的截止日期为10.8 14:20</span>"
   ]
  },
  {
   "cell_type": "markdown",
   "id": "cdef86e2",
   "metadata": {},
   "source": [
    "<span style=\"color:purple\">2) 实验课件获取地址: https://www.jianguoyun.com/p/Dae3tZUQp5WhChiClp0FIAA</span>"
   ]
  }
 ],
 "metadata": {
  "kernelspec": {
   "display_name": "Python 3 (ipykernel)",
   "language": "python",
   "name": "python3"
  },
  "language_info": {
   "codemirror_mode": {
    "name": "ipython",
    "version": 3
   },
   "file_extension": ".py",
   "mimetype": "text/x-python",
   "name": "python",
   "nbconvert_exporter": "python",
   "pygments_lexer": "ipython3",
   "version": "3.11.2"
  }
 },
 "nbformat": 4,
 "nbformat_minor": 5
}
