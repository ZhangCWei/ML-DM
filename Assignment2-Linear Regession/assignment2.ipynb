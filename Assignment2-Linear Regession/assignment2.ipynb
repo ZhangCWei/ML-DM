{
 "cells": [
  {
   "cell_type": "markdown",
   "id": "498d70fa",
   "metadata": {},
   "source": [
    "# 线性回归（二）"
   ]
  },
  {
   "cell_type": "markdown",
   "id": "210f3578",
   "metadata": {},
   "source": [
    "<font color=blue size=4>1.课堂实验任务</font>"
   ]
  },
  {
   "cell_type": "code",
   "execution_count": 1,
   "id": "226badd7",
   "metadata": {},
   "outputs": [],
   "source": [
    "import pandas as pd\n",
    "import numpy as np\n",
    "import matplotlib.pyplot as plt"
   ]
  },
  {
   "cell_type": "markdown",
   "id": "70d2906a",
   "metadata": {},
   "source": [
    "<span style=\"color:purple\">1) 使用pandas库的read_csv()函数(可以参考[pandas的官方文档](https://pandas.pydata.org/docs/reference/api/pandas.read_csv.html))将训练数据集'train.csv'和测试数据集'test.csv'载入到Dataframe对象中。</span>"
   ]
  },
  {
   "cell_type": "code",
   "execution_count": 2,
   "id": "f59640f4",
   "metadata": {},
   "outputs": [],
   "source": [
    "# Your code here\n",
    "\n",
    "# 读取数据集\n",
    "train_frame = pd.read_csv('train.csv')\n",
    "test_frame = pd.read_csv('test.csv')\n",
    "\n",
    "train_frame_2 = pd.read_csv('train2.csv')\n",
    "test_frame_2 = pd.read_csv('test2.csv')\n",
    "\n",
    "# 转化成numpy矩阵\n",
    "train = np.array(train_frame)\n",
    "test = np.array(test_frame)\n",
    "\n",
    "train_2 = np.array(train_frame_2)\n",
    "test_2 = np.array(test_frame_2)\n",
    "\n",
    "# 获取特征x与目标变量y\n",
    "x = train[:,0]\n",
    "y = train[:,1]\n",
    "\n",
    "# 获取特征x与目标变量y\n",
    "x_test = test[:,0]\n",
    "y_test = test[:,1]\n",
    "\n",
    "# 从训练中提取特征与目标变量\n",
    "x1 = train_2[:,0]\n",
    "x2 = train_2[:,1]\n",
    "x3 = train_2[:,2]\n",
    "y2 = train_2[:,3]\n",
    "\n",
    "# 从测试集中提取特征与目标变量\n",
    "x1_test = test_2[:,0]\n",
    "x2_test = test_2[:,1]\n",
    "x3_test = test_2[:,2]\n",
    "y2_test  = test_2[:,3]"
   ]
  },
  {
   "cell_type": "markdown",
   "id": "1bccb84d",
   "metadata": {},
   "source": [
    "<span style=\"color:purple\">2 假设模型为一元线性回归模型$\\hat{y}=wx+b$, 损失函数为$l(w,b)=\\frac{1}{2}\\sum_{i=1}^m(\\hat{y}^{(i)}-y^{(i)})^2$, 其中$\\hat{y}^{(i)}$表示第$i$个样本的预测值，$y^{(i)}$表示第$i$个样本的实际标签值, $m$为训练集中样本的个数。求出使得损失函数最小化的参数$w$和$b$。</span>"
   ]
  },
  {
   "cell_type": "markdown",
   "id": "e011976d",
   "metadata": {},
   "source": [
    "方法① \n",
    "\n",
    "将$l(w,b)$分别对$w$和$b$求导，得到\n",
    "$$\n",
    "\\frac{\\partial l(w,b)}{\\partial w}=w\\sum_{i=1}^m x_i^2 -\\sum_{i=1}^m (y_i-b)x_i,\n",
    "$$\n",
    "$$\n",
    "\\frac{\\partial l(w,b)}{\\partial b}=mb -\\sum_{i=1}^m (y_i-wx_i),\n",
    "$$\n",
    "令上述两式为零即可得到$w$和$b$的解析解：\n",
    "$$\n",
    "w=\\frac{\\sum_{i=1}^m y_i (x_i-\\bar{x})}{\\sum_{i=1}^m x_i^2-\\frac{1}{m}(\\sum_{i=1}^m x_i)^2},\n",
    "$$\n",
    "$$\n",
    "b=\\frac{1}{m}\\sum_{i=1}^m(y_i-wx_i),\n",
    "$$\n",
    "其中$\\bar{x}=\\frac{1}{m}\\sum_{i=1}^m x_i$为$x$的均值。\n",
    "\n"
   ]
  },
  {
   "cell_type": "code",
   "execution_count": 3,
   "id": "bad649ed",
   "metadata": {},
   "outputs": [
    {
     "name": "stdout",
     "output_type": "stream",
     "text": [
      "参数 w: 3.041478870014284\n",
      "参数 b: 4.906073659228104\n"
     ]
    }
   ],
   "source": [
    "# Your code here\n",
    "\n",
    "# 计算数据总量\n",
    "m = len(x)\n",
    "\n",
    "# 计算 x 的平均值\n",
    "x_mean = np.mean(x)\n",
    "\n",
    "# 计算参数 w\n",
    "w_LS = np.sum(y * (x - x_mean)) / (np.sum(x**2) - (np.sum(x))**2 / m)\n",
    "\n",
    "# 计算参数 b\n",
    "b_LS = np.sum(y - w_LS * x) / m\n",
    "\n",
    "# 打印参数 w 和 b\n",
    "print(\"参数 w:\", w_LS)\n",
    "print(\"参数 b:\", b_LS)\n"
   ]
  },
  {
   "cell_type": "markdown",
   "id": "1a04bc78",
   "metadata": {},
   "source": [
    "方法② 梯度下降法。手动实现梯度下降法(不使用机器学习框架，如PyTorch、TensorFlow等)来进行模型的训练。算法步骤如下：1.初始化模型参数$w$和$b$的值；2.在负梯度的方向上更新参数(批量梯度下降、小批量随机梯度下降或者随机梯度下降均可)，并不断迭代这一步骤，更新公式(以小批量随机梯度下降为例)可以写成：$$w\\gets w-\\frac{\\eta}{\\left|B\\right|}\\sum_{i\\in{B}}x^{(i)}(wx^{(i)}+b-y^{(i)})$$, 和$$b\\gets b-\\frac{\\eta}{\\left|B\\right|}\\sum_{i\\in{B}}(wx^{(i)}+b-y^{(i)})$$， 其中$\\eta$表示学习率,$B$表示每次迭代中随机抽样的小批量，$\\left|B\\right|$则表示$B$中的样本数量。3. 终止条件为迭代次数达到某一上限或者参数更新的幅度小于某个阈值。"
   ]
  },
  {
   "cell_type": "code",
   "execution_count": 4,
   "id": "c716287c",
   "metadata": {
    "scrolled": true
   },
   "outputs": [
    {
     "name": "stdout",
     "output_type": "stream",
     "text": [
      "在经过 444 次迭代后终止\n",
      "最终参数 w: 3.038782642024898\n",
      "最终参数 b: 4.905842608599712\n"
     ]
    }
   ],
   "source": [
    "# Your code here\n",
    "\n",
    "# 初始化参数 w 和 b\n",
    "w_GD = 3.0\n",
    "b_GD = 5.0\n",
    "\n",
    "# 超参数(学习率、小批量大小、迭代轮数)设置\n",
    "learning_rate = 0.01\n",
    "batch_size = 32\n",
    "max_iterations = 1000  \n",
    "threshold = 1e-5\n",
    "\n",
    "pre_params = [b_GD, w_GD]\n",
    "\n",
    "# 迭代训练\n",
    "for iteration in range(max_iterations):\n",
    "    # 分批处理数据\n",
    "    for i in range(0, len(x), batch_size):\n",
    "        x_batch = x[i : i+batch_size]\n",
    "        y_batch = y[i : i+batch_size]\n",
    "\n",
    "        # 计算小批量梯度\n",
    "        w_gradient = np.sum(x_batch * (w_GD * x_batch + b_GD - y_batch))\n",
    "        b_gradient = np.sum(w_GD * x_batch + b_GD - y_batch)\n",
    "\n",
    "        # 更新参数\n",
    "        w_GD -= learning_rate * w_gradient / batch_size\n",
    "        b_GD -= learning_rate * b_gradient / batch_size\n",
    "    \n",
    "    # 阈值判断\n",
    "    param_updates = [b_GD - pre_params[0], w_GD - pre_params[1]]\n",
    "    if all(abs(param) < threshold for param in param_updates):\n",
    "        print(f\"在经过 {iteration + 1} 次迭代后终止\")\n",
    "        break\n",
    "    pre_params = [b_GD, w_GD]\n",
    "    \n",
    "# 打印最终参数 w 和 b\n",
    "print(\"最终参数 w:\", w_GD)\n",
    "print(\"最终参数 b:\", b_GD)\n"
   ]
  },
  {
   "cell_type": "markdown",
   "id": "844f2a87",
   "metadata": {},
   "source": [
    "方法③ \n",
    "\n",
    "用矩阵表示，假设数据集有$m$个样本，特征有$n$维$。X=\\left[ \\begin{matrix} x_{11} & x_{12} & \\cdots & x_{1n} & 1 \\\\\n",
    "                         x_{21} & x_{22} & \\cdots & x_{2n} & 1 \\\\\n",
    "                         \\vdots & \\vdots &      & \\vdots & \\vdots \\\\\n",
    "                         x_{m1} & x_{m2} & \\cdots & x_{mn} & 1 \\end{matrix} \\right]$,\n",
    "        实际标签$Y=\\left[ \\begin{matrix} y_{1} \\\\\n",
    "                         y_{2} \\\\\n",
    "                         \\vdots \\\\\n",
    "                         y_{m}\\end{matrix} \\right]$,\n",
    "        参数$B=\\left[ \\begin{matrix} w_{1} \\\\\n",
    "                         w_{2} \\\\\n",
    "                         \\vdots \\\\\n",
    "                         w_{n} \\\\\n",
    "                         b\\end{matrix} \\right]$，则解析解为$B^*=(X^T X)^{-1}X^T Y$。推导过程可参考[这篇文章](https://zhuanlan.zhihu.com/p/74157986)。"
   ]
  },
  {
   "cell_type": "code",
   "execution_count": 5,
   "id": "6b9be1a9",
   "metadata": {},
   "outputs": [
    {
     "name": "stdout",
     "output_type": "stream",
     "text": [
      "参数 w: 3.041478870014308\n",
      "参数 b: 4.906073659228064\n"
     ]
    }
   ],
   "source": [
    "# Your code here\n",
    "\n",
    "# 构建特征矩阵 X 和目标变量向量 Y\n",
    "X = np.column_stack((x,))\n",
    "X = np.c_[np.ones(X.shape[0]), X]\n",
    "\n",
    "# 计算参数\n",
    "X1 = np.dot(X.T, X)\n",
    "X2 = np.dot(X.T, y)\n",
    "w = np.linalg.solve(X1, X2)\n",
    "\n",
    "# 提取参数 b, w_MA\n",
    "b_MA, w_MA = w[0], w[1]\n",
    "\n",
    "# 打印参数\n",
    "print(\"参数 w:\", w_MA)\n",
    "print(\"参数 b:\", b_MA)\n"
   ]
  },
  {
   "cell_type": "markdown",
   "id": "eb16c177",
   "metadata": {},
   "source": [
    "<span style=\"color:purple\">3) 使用求解出来的线性回归模型对测试数据集'test.csv'进行预测，输出可视化结果（比如用seaborn或者matplotlib等可视化库来画出测试数据的散点图以及训练好的模型函数图像）。</span>"
   ]
  },
  {
   "cell_type": "code",
   "execution_count": 6,
   "id": "b19a5413",
   "metadata": {
    "scrolled": true
   },
   "outputs": [
    {
     "name": "stdout",
     "output_type": "stream",
     "text": [
      "特征统计学方法所得均方误差MSE: 0.17026808677223365\n",
      "梯度下降算法所得均方误差MSE: 0.16987132482375156\n"
     ]
    },
    {
     "data": {
      "image/png": "[encoded data removed]",
      "text/plain": [
       "<Figure size 640x480 with 1 Axes>"
      ]
     },
     "metadata": {},
     "output_type": "display_data"
    }
   ],
   "source": [
    "# Your code here\n",
    "\n",
    "# 画出散点图\n",
    "plt.scatter(x_test, y_test, label='Scatter Plot', marker='.')\n",
    "\n",
    "# 画出训练好的模型函数图像\n",
    "model_LS = w_LS * x_test + b_LS\n",
    "model_GD = w_GD * x_test + b_GD\n",
    "\n",
    "MSE_LS = np.mean((y_test - model_LS) ** 2)\n",
    "MSE_GD = np.mean((y_test - model_GD) ** 2)\n",
    "print(\"特征统计学方法所得均方误差MSE:\", MSE_LS)\n",
    "print(\"梯度下降算法所得均方误差MSE:\", MSE_GD)\n",
    "\n",
    "plt.plot(x_test, model_LS, color='red', linewidth=1.0, linestyle='--', label='Model_LS: 3.0414*x + 4.9061')\n",
    "plt.plot(x_test, model_GD, color='blue', linewidth=1.0, linestyle='--', label='Model_GD: 3.0388*x + 4.9058')\n",
    "\n",
    "# 设置坐标标签、直线图例和图片\n",
    "plt.xlabel('x')\n",
    "plt.ylabel('y')\n",
    "plt.legend(loc='upper left')\n",
    "plt.title('Predictive Set Scatter Plot and Models Images')\n",
    "plt.show()\n"
   ]
  },
  {
   "cell_type": "markdown",
   "id": "f227579c",
   "metadata": {},
   "source": [
    "<span style=\"color:purple\">4) 在训练数据集'train2.csv'上求一个三元线性回归模型$\\hat{y}=w_0 + w_1 x_1 + w_2 x_2 + w_3 x_3$的使得损失函数$l(w_0,w_1,w_2,w_3)=\\frac{1}{2}\\sum_{i=1}^m(\\hat{y}^{(i)}-y^{(i)})^2$最小的参数$w_0,w_1,w_2$以及$w_3$。并在测试数据集'test2.csv'上进行预测，输出预测结果的均方误差$MSE(\\hat{y},y)=\\frac{1}{n}\\sum^n_{i=1}(y^{(i)}-\\hat{y}^{(i)})^2$, $n$为测试集中样本个数。</span>"
   ]
  },
  {
   "cell_type": "markdown",
   "id": "2a1f6178",
   "metadata": {},
   "source": [
    "方法① 同2)中的方法③。"
   ]
  },
  {
   "cell_type": "code",
   "execution_count": 7,
   "id": "68d77370",
   "metadata": {},
   "outputs": [
    {
     "name": "stdout",
     "output_type": "stream",
     "text": [
      "参数 w0: 5.942543927259509\n",
      "参数 w1: 1.0072300078584673\n",
      "参数 w2: 2.0033937115307268\n",
      "参数 w3: 3.0102562412206266\n",
      "均方误差 MSE: 0.16537691128952478\n"
     ]
    }
   ],
   "source": [
    "# Your code here\n",
    "\n",
    "# 构建训练集和测试集特征矩阵 X_train 和目标变量向量 Y\n",
    "X_train = np.column_stack((x1, x2, x3))\n",
    "X_train = np.c_[np.ones(X_train.shape[0]), X_train]\n",
    "\n",
    "X_test = np.column_stack((x1_test, x2_test, x3_test))\n",
    "X_test = np.c_[np.ones(X_test.shape[0]), X_test]\n",
    "\n",
    "# 计算参数\n",
    "X_train1 = np.dot(X_train.T, X_train)\n",
    "X_train2 = np.dot(X_train.T, y2)\n",
    "w = np.linalg.solve(X_train1, X_train2)\n",
    "\n",
    "# 获取预测值\n",
    "y2_pre = np.dot(X_test, w)\n",
    "\n",
    "# 提取参数 w0, w1, w2, w3\n",
    "w0, w1, w2, w3 = w[0], w[1], w[2], w[3]\n",
    "\n",
    "# 打印参数\n",
    "print(\"参数 w0:\", w0)\n",
    "print(\"参数 w1:\", w1)\n",
    "print(\"参数 w2:\", w2)\n",
    "print(\"参数 w3:\", w3)\n",
    "\n",
    "# 计算均方误差\n",
    "MSE = np.mean((y2_test - y2_pre) ** 2)\n",
    "print(\"均方误差 MSE:\", MSE)\n"
   ]
  },
  {
   "cell_type": "markdown",
   "id": "f4ea8a93",
   "metadata": {},
   "source": [
    "方法② 类似2)中的方法②。算法步骤如下：1.初始化模型参数$w_0,w_1,w_2,w_3$的值；2.在负梯度的方向上更新参数(批量梯度下降、小批量随机梯度下降或者随机梯度下降均可)，并不断迭代这一步骤，更新公式(以小批量随机梯度下降为例)可以写成：$$w_j\\gets w_j-\\frac{\\eta}{\\left|B\\right|}\\sum_{i\\in{B}}x_j^{(i)}(w_0 + w_1 x_1^{(i)}+w_2 x_2^{(i)}+w_3 x_3^{(i)}-y^{(i)}), j=0,1,2,3$$, 其中$x_0^{(i)}=1$， 其中$\\eta$表示学习率,$B$表示每次迭代中随机抽样的小批量，$\\left|B\\right|$则表示$B$中的样本数量。3. 终止条件为迭代次数达到某一上限或者参数更新的幅度小于某个阈值。"
   ]
  },
  {
   "cell_type": "code",
   "execution_count": 8,
   "id": "115f58e2",
   "metadata": {},
   "outputs": [
    {
     "name": "stdout",
     "output_type": "stream",
     "text": [
      "在经过 688 次迭代后终止\n",
      "最终参数 w0: 5.9448441577560605\n",
      "最终参数 w1: 1.007697872416319\n",
      "最终参数 w2: 2.003240760505262\n",
      "最终参数 w3: 3.0103396659690156\n",
      "均方误差MSE为: 0.16468549022039308\n"
     ]
    }
   ],
   "source": [
    "# Your code here\n",
    "\n",
    "w0_GD = 6.0\n",
    "w1_GD = 1.0\n",
    "w2_GD = 2.0\n",
    "w3_GD = 3.0\n",
    "\n",
    "# 超参数(学习率、小批量大小、最大迭代次数、参数更新阈值)设置\n",
    "learning_rate = 0.01\n",
    "batch_size = 32\n",
    "max_iterations = 1000  \n",
    "threshold = 1e-5\n",
    "\n",
    "pre_params = [w0_GD, w1_GD, w2_GD, w3_GD]\n",
    "\n",
    "# 迭代训练\n",
    "for iteration in range(max_iterations):\n",
    "    # 分批处理数据\n",
    "    for i in range(0, len(y2), batch_size):\n",
    "        x1_batch = x1[i:i+batch_size]\n",
    "        x2_batch = x2[i:i+batch_size]\n",
    "        x3_batch = x3[i:i+batch_size]\n",
    "        y2_batch = y2[i:i+batch_size]\n",
    "\n",
    "        # 利用公式计算小批量梯度\n",
    "        w0_gradient_2 = np.sum(w0_GD + w1_GD * x1_batch + w2_GD * x2_batch + w3_GD * x3_batch - y2_batch)\n",
    "        w1_gradient_2 = np.sum(x1_batch * (w0_GD + w1_GD * x1_batch + w2_GD * x2_batch + w3_GD * x3_batch - y2_batch))\n",
    "        w2_gradient_2 = np.sum(x2_batch * (w0_GD + w1_GD * x1_batch + w2_GD * x2_batch + w3_GD * x3_batch - y2_batch))\n",
    "        w3_gradient_2 = np.sum(x3_batch * (w0_GD + w1_GD * x1_batch + w2_GD * x2_batch + w3_GD * x3_batch - y2_batch))\n",
    "\n",
    "        # 更新参数\n",
    "        w0_GD -= learning_rate * w0_gradient_2 / batch_size\n",
    "        w1_GD -= learning_rate * w1_gradient_2 / batch_size\n",
    "        w2_GD -= learning_rate * w2_gradient_2 / batch_size\n",
    "        w3_GD -= learning_rate * w3_gradient_2 / batch_size\n",
    "\n",
    "    \n",
    "    param_updates = [w0_GD - pre_params[0], w1_GD - pre_params[1], w2_GD - pre_params[2], w3_GD - pre_params[3]]\n",
    "    if all(abs(param) < threshold for param in param_updates):\n",
    "        print(f\"在经过 {iteration + 1} 次迭代后终止\")\n",
    "        break\n",
    "\n",
    "    pre_params = [w0_GD, w1_GD, w2_GD, w3_GD]\n",
    "\n",
    "# 打印参数 w 和 b\n",
    "print(\"最终参数 w0:\", w0_GD)\n",
    "print(\"最终参数 w1:\", w1_GD)\n",
    "print(\"最终参数 w2:\", w2_GD)\n",
    "print(\"最终参数 w3:\", w3_GD)\n",
    "\n",
    "# 计算均方误差\n",
    "MSE = np.sum((y2_test - w0_GD - w1_GD * x1_test -w2_GD * x2_test - w3_GD * x3_test)**2) / len(y2_test)\n",
    "print(\"均方误差MSE为:\", MSE)\n"
   ]
  },
  {
   "cell_type": "markdown",
   "id": "1507673b",
   "metadata": {},
   "source": [
    "<font color=blue size=4>2.相关链接</font>"
   ]
  },
  {
   "cell_type": "markdown",
   "id": "6892053c",
   "metadata": {},
   "source": [
    "1.实验报告提交链接(有效期直至9.15 14:20): https://send2me.cn/211f55kq/Sgav4JPN0foh9Q"
   ]
  },
  {
   "cell_type": "markdown",
   "id": "3ad2992c",
   "metadata": {},
   "source": [
    "2.实验课件获取链接: https://www.jianguoyun.com/p/DWcqLm4Qp5WhChjZi5sFIAA"
   ]
  }
 ],
 "metadata": {
  "kernelspec": {
   "display_name": "Python 3 (ipykernel)",
   "language": "python",
   "name": "python3"
  },
  "language_info": {
   "codemirror_mode": {
    "name": "ipython",
    "version": 3
   },
   "file_extension": ".py",
   "mimetype": "text/x-python",
   "name": "python",
   "nbconvert_exporter": "python",
   "pygments_lexer": "ipython3",
   "version": "3.11.4"
  }
 },
 "nbformat": 4,
 "nbformat_minor": 5
}
