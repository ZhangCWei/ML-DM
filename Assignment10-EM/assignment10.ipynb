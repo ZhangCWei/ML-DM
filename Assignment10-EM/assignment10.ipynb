{
 "cells": [
  {
   "cell_type": "markdown",
   "id": "9ea0ed22",
   "metadata": {},
   "source": [
    "**<font color = black size=6>实验十:EM算法</font>**"
   ]
  },
  {
   "cell_type": "code",
   "execution_count": 45,
   "id": "db23a433",
   "metadata": {},
   "outputs": [],
   "source": [
    "from collections import Counter\n",
    "import numpy as np\n",
    "import pandas as pd\n",
    "import matplotlib.pyplot as plt\n",
    "import math\n",
    "import random"
   ]
  },
  {
   "cell_type": "markdown",
   "id": "5a94b746",
   "metadata": {},
   "source": [
    "**<font color = blue size=4>第一部分:实验任务</font>**"
   ]
  },
  {
   "cell_type": "markdown",
   "id": "59e45773",
   "metadata": {},
   "source": [
    "<span style=\"color:purple\">=======  \n",
    "现在给定了一个班级中所有同学的身高数据文件(height.csv)，但不知道各个学生的性别。假设男生身高服从一高斯分布$N_1(\\mu_1,\\sigma_1^2)$，女生身高服从另一高斯分布$N_2(\\mu_2,\\sigma_2^2)$，我们可以写出一个混合高斯模型:$x\\sim\\alpha_1 N_1(\\mu_1,\\sigma_1^2)+\\alpha_2 N_2(\\mu_2,\\sigma_2^2)$。请使用EM算法完成对该混合高斯分布的估计(即求出对参数$\\alpha_1,\\alpha_2,\\mu_1,\\sigma_1,\\mu_2,\\sigma_2$的估计值)。我们简化地记$\\theta_1=(\\alpha_1,\\mu_1,\\sigma_1)$, $\\theta_2=(\\alpha_2,\\mu_2,\\sigma_2)$</span>"
   ]
  },
  {
   "cell_type": "markdown",
   "id": "3eaa9224",
   "metadata": {},
   "source": [
    "<span style=\"color:purple\">该数据集(height.csv)特征信息只包括了1个特征，即学生的身高。我们沿用理论课PPT的设置，将隐变量$z_i$按照男生$z_i=1$、女生$z_i=2$的形式进行描述</span>"
   ]
  },
  {
   "cell_type": "markdown",
   "id": "71a273da",
   "metadata": {},
   "source": [
    "**<font color = black size=4>E步（Expectation Step）</font>**"
   ]
  },
  {
   "cell_type": "markdown",
   "id": "a55b8d07",
   "metadata": {},
   "source": [
    "<span style=\"color:purple\">1) 将数据集'height.csv'载入并转换为你需要的格式</span>"
   ]
  },
  {
   "cell_type": "code",
   "execution_count": 46,
   "id": "8ba9174f",
   "metadata": {},
   "outputs": [
    {
     "name": "stdout",
     "output_type": "stream",
     "text": [
      "[170.26930751 179.8860453  173.68132906 ... 163.56147404 163.49419524\n",
      " 171.81596527]\n"
     ]
    }
   ],
   "source": [
    "# 导入数据集，并将二维数组展平\n",
    "D = pd.read_csv('data.csv').values.flatten()\n",
    "print(D)\n"
   ]
  },
  {
   "cell_type": "markdown",
   "id": "b8adad0e",
   "metadata": {},
   "source": [
    "<span style=\"color:purple\">2)初始化  \n",
    "初始化$t=0$时的参数($\\alpha_1(0)$, $\\alpha_2(0)$, $\\mu_1(0)$, $\\mu_2(0)$, $\\sigma_1(0)$, $\\sigma_2(0)$). </span>"
   ]
  },
  {
   "cell_type": "code",
   "execution_count": 47,
   "id": "26ec83cd",
   "metadata": {},
   "outputs": [],
   "source": [
    "# parameter=[alpha1,alpha2,mu1,mu2,sigma1,sigma2]\n",
    "\n",
    "# param = [0, 0, 0, 0, 0, 0]\n"
   ]
  },
  {
   "cell_type": "markdown",
   "id": "b98a1bec",
   "metadata": {},
   "source": [
    "<span style=\"color:purple\">3)编写函数P(x,parameter,z)  \n",
    "给定参数$(\\alpha_1(t),\\alpha_2(t),\\mu_1(t),\\mu_2(t),\\sigma_1(t),\\sigma_2(t))$以及数据集D,计算每个样本$x_i$的$P(x_i,z_i|\\theta)$.</span>"
   ]
  },
  {
   "cell_type": "markdown",
   "id": "1c4027ec",
   "metadata": {},
   "source": [
    "<span style=\"color:purple\">.  \n",
    "当$z_i=1$时,$$P(x_i,z_i|\\theta)=\\alpha_1(t)f_1(x_i|\\theta_1(t))$$\n",
    "    当$z_i=2$时,$$P(x_i,z_i|\\theta)=\\alpha_2(t)f_2(x_i|\\theta_2(t))$$</span>"
   ]
  },
  {
   "cell_type": "markdown",
   "id": "10fcfa00",
   "metadata": {},
   "source": [
    "<span style=\"color:purple\"> .   \n",
    "其中$f_1(x_i|\\theta_1(t))$为样本$x_i$在模型$N_1$中的概率密度,公式如下:\n",
    "    $$f(x_i|\\theta_1(t))=\\frac{1}{{\\sqrt{2\\pi}\\sigma_1}} e^{-\\frac{(x_i-\\mu_1)^2}{2\\sigma_1^2}}$$</span>"
   ]
  },
  {
   "cell_type": "code",
   "execution_count": 48,
   "id": "21acd6a1",
   "metadata": {},
   "outputs": [],
   "source": [
    "# parameter=[alpha1,alpha2,mu1,mu2,sigma1,sigma2]\n",
    "def P(x, para, z):\n",
    "    alpha1, alpha2, mu1, mu2, sigma1, sigma2 = para\n",
    "\n",
    "    if z == 1:\n",
    "        f1_x = (1 / (math.sqrt(2 * math.pi) * sigma1)) * math.exp(-(x - mu1) ** 2 / (2 * sigma1 ** 2))\n",
    "        prob = alpha1 * f1_x\n",
    "    elif z == 2:\n",
    "        f2_x = (1 / (math.sqrt(2 * math.pi) * sigma2)) * math.exp(-(x - mu2) ** 2 / (2 * sigma2 ** 2))\n",
    "        prob = alpha2 * f2_x\n",
    "    else:\n",
    "        print(\"error in func P\")\n",
    "    \n",
    "    return prob\n",
    "        "
   ]
  },
  {
   "cell_type": "markdown",
   "id": "0b51f5ed",
   "metadata": {},
   "source": [
    "<span style=\"color:purple\">4)编写函数Y(x,parameter,z)  \n",
    "给定参数$(\\alpha_1(t),\\alpha_2(t),\\mu_1(t),\\mu_2(t),\\sigma_1(t),\\sigma_2(t))$以及数据集D,计算每个样本$x_i$的$y_{1,i}=P((z_i=1)|x_i,\\theta)$和$y_{2,i}=P((z_i=2)|x_i,\\theta)$.  \n",
    "公式如下:  \n",
    "</span>"
   ]
  },
  {
   "cell_type": "markdown",
   "id": "6eba14dc",
   "metadata": {},
   "source": [
    "$$P((z_i=1)|x_i,\\theta) = \\frac{\\alpha_1(t)f_1(x_i|\\theta_1(t))}{\\alpha_1(t)f_1(x_i|\\theta_1(t))+\\alpha_2(t)f_2(x_i|\\theta_2(t))}$$  \n",
    "$$P((z_i=2)|x_i,\\theta) = \\frac{\\alpha_2(t)f_2(x_i|\\theta_2(t))}{\\alpha_1(t)f_1(x_i|\\theta_1(t))+\\alpha_2(t)f_2(x_i|\\theta_2(t))}$$"
   ]
  },
  {
   "cell_type": "code",
   "execution_count": 49,
   "id": "edc0e43f",
   "metadata": {},
   "outputs": [],
   "source": [
    "# parameter=[alpha1,alpha2,mu1,mu2,sigma1,sigma2]\n",
    "def Y(x, para, z):\n",
    "\n",
    "    if z == 1:\n",
    "        deno =  P(x, para, z) + P(x, para, z+1)\n",
    "    elif z == 2:\n",
    "        deno =  P(x, para, z) + P(x, para, z-1)\n",
    "    else:\n",
    "        print(\"error in func Y\")\n",
    "    \n",
    "    prob = P(x, para, z) / deno\n",
    "\n",
    "    return prob\n",
    "\n"
   ]
  },
  {
   "cell_type": "markdown",
   "id": "c68cba90",
   "metadata": {},
   "source": [
    "<span style=\"color:purple\">5)编写函数Q(x,parameter)  \n",
    " 计算对数似然函数在该分布和基于$\\theta(t)$下的期望值$Q(\\theta)$.单个样本的期望值公式如下:$$E_{z_i}logP(x_i,z_i|\\theta)=y_{1,i}log(\\alpha_1(t)f_1(x_i|\\theta_1(t)))+y_{2,i}log(\\alpha_2(t)f_2(x_i|\\theta_2(t)))$$</span>"
   ]
  },
  {
   "cell_type": "code",
   "execution_count": 50,
   "id": "6678b0f5",
   "metadata": {},
   "outputs": [],
   "source": [
    "# parameter=[alpha1,alpha2,mu1,mu2,sigma1,sigma2]\n",
    "def Q(D, para):\n",
    "    \n",
    "    # 初始化期望值\n",
    "    exp = 0\n",
    "\n",
    "    # 累加期望值\n",
    "    for d in D:\n",
    "        log_likelihood_1 = math.log(P(d, para, 1))\n",
    "        log_likelihood_2 = math.log(P(d, para, 2))\n",
    "        exp += Y(d, para, 1) * log_likelihood_1 + Y(d, para, 2) * log_likelihood_2\n",
    "\n",
    "    # 返回期望值\n",
    "    return exp"
   ]
  },
  {
   "cell_type": "markdown",
   "id": "1640536b",
   "metadata": {},
   "source": [
    "**<font color = black size=4>M步 (Maximization Step)</font>**"
   ]
  },
  {
   "cell_type": "markdown",
   "id": "553d509e",
   "metadata": {},
   "source": [
    "<span style=\"color:purple\">6)编写函数alpha_expection(D,parameter)  \n",
    " 给定参数$(\\alpha_1(t),\\alpha_2(t),\\mu_1(t),\\mu_2(t),\\sigma_1(t),\\sigma_2(t))$以及数据集D，计算第$(t+1)$轮的$(\\alpha_1(t+1),\\alpha_2(t+1))$的更新值.\n",
    "</span>"
   ]
  },
  {
   "cell_type": "markdown",
   "id": "2b18e03a",
   "metadata": {},
   "source": [
    "$$\\alpha_1(t+1)=\\frac{\\sum_{i=1}^m{y_{1,i}}}{m}$$  \n",
    "$$\\alpha_2(t+1)=\\frac{\\sum_{i=1}^m{y_{2,i}}}{m}$$"
   ]
  },
  {
   "cell_type": "code",
   "execution_count": 51,
   "id": "816571c3",
   "metadata": {},
   "outputs": [],
   "source": [
    "# parameter=[alpha1,alpha2,mu1,mu2,sigma1,sigma2]\n",
    "def alpha_expection(D, para):\n",
    "    # 初始化\n",
    "    sum_1 = 0\n",
    "    sum_2 = 0\n",
    "\n",
    "    # 遍历累加\n",
    "    for d in D:\n",
    "        sum_1 += Y(d, para, 1)\n",
    "        sum_2 += Y(d, para, 2)\n",
    "    \n",
    "    # 计算alpha\n",
    "    alpha_1 = sum_1 / len(D)\n",
    "    alpha_2 = sum_2 / len(D)\n",
    "\n",
    "    # 返回参数\n",
    "    return alpha_1, alpha_2 \n"
   ]
  },
  {
   "cell_type": "markdown",
   "id": "75d91543",
   "metadata": {},
   "source": [
    "<span style=\"color:purple\">7)编写函数mu_expection(D,parameter)  \n",
    "给定参数$(\\alpha_1(t),\\alpha_2(t),\\mu_1(t),\\mu_2(t),\\sigma_1(t),\\sigma_2(t))$以及数据集D，计算第$(t+1)$轮的$(\\mu_1(t+1),\\mu_2(t+1))$的更新值.\n",
    "</span>"
   ]
  },
  {
   "cell_type": "markdown",
   "id": "17f77382",
   "metadata": {},
   "source": [
    "$$\\mu_1(t+1)=\\frac{\\sum_{i=1}^m{y_{1,i}x_i}}{\\sum_{i=1}^m{y_{1,i}}}$$\n",
    "$$\\mu_2(t+1)=\\frac{\\sum_{i=1}^m{y_{2,i}x_i}}{\\sum_{i=1}^m{y_{2,i}}}$$"
   ]
  },
  {
   "cell_type": "code",
   "execution_count": 52,
   "id": "cce50059",
   "metadata": {},
   "outputs": [],
   "source": [
    "# parameter=[alpha1,alpha2,mu1,mu2,sigma1,sigma2]\n",
    "def mu_expection(D, para):\n",
    "\n",
    "    # 初始化\n",
    "    sum_1 = sum_2 = sum_3 = sum_4 = 0\n",
    "\n",
    "    # 遍历累加\n",
    "    for d in D:\n",
    "        sum_1 += Y(d, para, 1) * d\n",
    "        sum_2 += Y(d, para, 1)\n",
    "        sum_3 += Y(d, para, 2) * d\n",
    "        sum_4 += Y(d, para, 2)\n",
    "\n",
    "    # 计算mu\n",
    "    mu1 = sum_1 / sum_2\n",
    "    mu2 = sum_3 / sum_4\n",
    "    \n",
    "    # 返回参数\n",
    "    return mu1, mu2  \n",
    "    "
   ]
  },
  {
   "cell_type": "markdown",
   "id": "dab8612a",
   "metadata": {},
   "source": [
    "<span style=\"color:purple\">8)编写函数\n",
    "sigma_expection(D,parameter,mu_next_1,mu_next_2)\n",
    "给定参数$(\\alpha_1(t),\\alpha_2(t),\\mu_1(t),\\mu_2(t),\\sigma_1(t),\\sigma_2(t))$以及数据集D，计算第$(t+1)$轮的$(\\sigma_1(t+1),\\sigma_2(t+1))$的更新值.\n",
    "</span>"
   ]
  },
  {
   "cell_type": "markdown",
   "id": "44c47937",
   "metadata": {},
   "source": [
    "$$\\sigma_1(t+1)=\\sqrt{\\frac{\\sum_{i=1}^m{y_{1,i}(x_i-\\mu_1(t+1))^2}}{\\sum_{i=1}^m{y_{1,i}}}}$$\n",
    "$$\\sigma_2(t+1)=\\sqrt{\\frac{\\sum_{i=1}^m{y_{2,i}(x_i-\\mu_2(t+1))^2}}{\\sum_{i=1}^m{y_{2,i}}}}$$"
   ]
  },
  {
   "cell_type": "code",
   "execution_count": 53,
   "id": "58084451",
   "metadata": {},
   "outputs": [],
   "source": [
    "# parameter=[alpha1,alpha2,mu1,mu2,sigma1,sigma2]\n",
    "def sigma_expection(D, para, mu_next_1, mu_next_2):\n",
    "    # 初始化\n",
    "    sum_1 = sum_2 = sum_3 = sum_4 = 0\n",
    "\n",
    "    # 遍历累加\n",
    "    for d in D:\n",
    "        sum_1 += Y(d, para, 1) * (d - mu_next_1)**2\n",
    "        sum_2 += Y(d, para, 1)\n",
    "        sum_3 += Y(d, para, 2) * (d - mu_next_2)**2\n",
    "        sum_4 += Y(d, para, 2)\n",
    "    \n",
    "    # 更新sigma\n",
    "    sigma1 = math.sqrt(sum_1 / sum_2)\n",
    "    sigma2 = math.sqrt(sum_3 / sum_4)\n",
    "\n",
    "    return sigma1, sigma2"
   ]
  },
  {
   "cell_type": "markdown",
   "id": "20f96c7c",
   "metadata": {},
   "source": [
    "**<font color = black size=4>E步和M步的迭代过程</font>**"
   ]
  },
  {
   "cell_type": "markdown",
   "id": "cc5376c4",
   "metadata": {},
   "source": [
    "<span style=\"color:purple\">9) 利用前面编写的函数完成EM算法的迭代过程，直至达到收敛要求。请至少完成【3次】不同的初始值下的迭代过程，并比较选出最好的。  \n",
    "    收敛要求给出如下几种参考:  \n",
    "    1.迭代轮数达到指定轮数;  \n",
    "    2.每轮参数更新的差值小于阈值.</span>"
   ]
  },
  {
   "cell_type": "markdown",
   "id": "51849ee6",
   "metadata": {},
   "source": [
    "<img src='./EM Algorithm Pseudocode.png'>"
   ]
  },
  {
   "cell_type": "markdown",
   "id": "8125c35e",
   "metadata": {},
   "source": [
    ".  我们给出这个数据集的正确相关信息作为参考:$\\theta_1:(\\alpha_1=0.625,\\mu_1=175,\\sigma_1=4)$,$\\theta_2:(\\alpha_2=0.375,\\mu_2=165,\\sigma_2=6)$"
   ]
  },
  {
   "cell_type": "code",
   "execution_count": 54,
   "id": "0949818d",
   "metadata": {},
   "outputs": [],
   "source": [
    "# 设置参数\n",
    "conv_threshold = 1e-5\n",
    "max_iterations = 500\n",
    "\n",
    "def Jud(x1, x1_old, x2, x2_old):\n",
    "    if abs(x1 - x1_old) < conv_threshold and abs(x2 - x2_old) < conv_threshold:\n",
    "        return True\n",
    "    else:\n",
    "        return False\n",
    "\n",
    "# 构造EM模型\n",
    "def EM_model(D, para):\n",
    "    # 进行初始化\n",
    "    iteration = 0\n",
    "\n",
    "    while iteration < max_iterations:\n",
    "        \n",
    "        # 获取原参数\n",
    "        a1_old, a2_old = para[0], para[1]\n",
    "        # m1_old, m2_old = para[2], para[3]\n",
    "        # s1_old, s2_old = para[4], para[5]\n",
    "\n",
    "        # 计算新参数\n",
    "        a1, a2 = alpha_expection(D, para)\n",
    "        m1, m2 = mu_expection(D, para)\n",
    "        s1, s2 = sigma_expection(D, para, m1, m2)\n",
    "\n",
    "        # 判断每轮参数更新的差值是否小于阈值\n",
    "        if Jud(a1, a1_old, a2, a2_old):\n",
    "            break\n",
    "\n",
    "        # 更新参数与迭代轮次\n",
    "        para = [a1, a2, m1, m2, s1, s2]\n",
    "\n",
    "        iteration += 1\n",
    "    \n",
    "    return para, iteration\n"
   ]
  },
  {
   "cell_type": "code",
   "execution_count": 55,
   "metadata": {},
   "outputs": [
    {
     "name": "stdout",
     "output_type": "stream",
     "text": [
      "Initialization 1:\n",
      "Train epoches: 383\n",
      "Parameters: [0.6305261097891913, 0.36947389021080823, 175.37840914131485, 164.99846191545026, 4.024156606039094, 5.627846335915675]\n",
      "Initialization 2:\n",
      "Train epoches: 373\n",
      "Parameters: [0.630524491970305, 0.36947550802969464, 175.3784180047124, 164.9984922402896, 4.024152607222392, 5.627859210332814]\n",
      "Initialization 3:\n",
      "Train epoches: 344\n",
      "Parameters: [0.6305300815336361, 0.3694699184663641, 175.3783873813691, 164.99838746771857, 4.024166423282355, 5.627814729103191]\n",
      "Initialization 4:\n",
      "Train epoches: 12\n",
      "Parameters: [0.6285483935201539, 0.3714516064798451, 175.38665026251877, 165.03978263324893, 4.021589700651456, 5.648674414418014]\n",
      "Initialization 5:\n",
      "Train epoches: 266\n",
      "Parameters: [0.6305237275785418, 0.36947627242145836, 175.37842219249083, 164.99850656823583, 4.024150717862136, 5.6278652932643265]\n",
      "Initialization 6:\n",
      "Train epoches: 441\n",
      "Parameters: [0.6290784054402864, 0.370921594559714, 175.3863114191577, 165.02557261092605, 4.020592299568402, 5.6393549502099205]\n",
      "Initialization 7:\n",
      "Train epoches: 472\n",
      "Parameters: [0.6290736615617143, 0.370926338438284, 175.38633721773064, 165.0256613640852, 4.020580665767204, 5.639392622087837]\n"
     ]
    }
   ],
   "source": [
    "\n",
    "# 初始化\n",
    "init_param = [\n",
    "    [0.5, 0.3, 165, 155, 4, 4],\n",
    "    [0.55, 0.35, 170, 157, 4.5, 4.5],\n",
    "    [0.6, 0.4, 175, 160, 5, 5],\n",
    "    [0.625, 0.375, 175, 165, 4, 6],\n",
    "    [0.6, 0.4, 180, 160, 5, 5],\n",
    "    [0.65, 0.45, 180, 170, 5, 5],\n",
    "    [0.7, 0.5, 185, 175, 6, 6]\n",
    "]\n",
    "\n",
    "# 训练模型\n",
    "for i, param in enumerate(init_param):\n",
    "    parameters, iteration = EM_model(D, param)\n",
    "    print(f\"Initialization {i+1}:\")\n",
    "    print(\"Train epoches:\", iteration)\n",
    "    print(\"Parameters:\", parameters)\n"
   ]
  },
  {
   "cell_type": "markdown",
   "id": "ce37c15b",
   "metadata": {},
   "source": [
    "**<font color = blue size=4>第二部分:作业提交</font>**"
   ]
  },
  {
   "cell_type": "markdown",
   "id": "d90cab67",
   "metadata": {},
   "source": [
    "一、实验课下课前提交完成代码，如果下课前未完成，请将已经完成的部分进行提交，未完成的部分于之后的实验报告中进行补充  \n",
    "要求:  \n",
    "1)文件格式为：学号-姓名.ipynb  \n",
    "2)【不要】提交文件夹、压缩包、数据集等无关文件，只需提交单个ipynb文件即可，如果交错请到讲台前联系助教，删掉之前的错误版本后再进行提交"
   ]
  },
  {
   "cell_type": "markdown",
   "id": "651240a9",
   "metadata": {},
   "source": [
    "二、实验报告截止日期： 【11月24日 14:20】\n",
    "要求：  \n",
    "1)文件格式为：学号-姓名.pdf  \n",
    "2)【不要】提交文件夹、压缩包、代码文件、数据集等任何与实验报告无关的文件，只需要提交单个pdf文件即可  \n",
    "3)文件命名时不需要额外添加“实验几”等额外信息，按照格式提交  \n",
    "4)每周的实验报告提交地址会变化，且有时间限制，提交时间为下周的实验课开始时，请注意及时提交。"
   ]
  },
  {
   "cell_type": "markdown",
   "id": "bc07e4e0",
   "metadata": {},
   "source": [
    "实验十(EM算法)的实验报告上交地址:https://send2me.cn/9UjusmMn/S_Cz3o_FpKQEsA  "
   ]
  },
  {
   "cell_type": "markdown",
   "id": "7ee9cfb6",
   "metadata": {},
   "source": [
    "三、课堂课件获取地址:https://www.jianguoyun.com/p/DZKTh-IQp5WhChiIn6gFIAA  \n",
    "实验内容获取地址:https://www.jianguoyun.com/p/DbCHB9wQp5WhChiKn6gFIAA"
   ]
  }
 ],
 "metadata": {
  "kernelspec": {
   "display_name": "Python 3",
   "language": "python",
   "name": "python3"
  },
  "language_info": {
   "codemirror_mode": {
    "name": "ipython",
    "version": 3
   },
   "file_extension": ".py",
   "mimetype": "text/x-python",
   "name": "python",
   "nbconvert_exporter": "python",
   "pygments_lexer": "ipython3",
   "version": "3.11.2"
  }
 },
 "nbformat": 4,
 "nbformat_minor": 5
}
