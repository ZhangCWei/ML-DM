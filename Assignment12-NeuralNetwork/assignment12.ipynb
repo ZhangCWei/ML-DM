{
 "cells": [
  {
   "cell_type": "markdown",
   "id": "e59a56ee",
   "metadata": {},
   "source": [
    "**<font color = black size=6>实验十二：神经网络</font>**"
   ]
  },
  {
   "cell_type": "code",
   "execution_count": 55,
   "id": "62f100c9",
   "metadata": {},
   "outputs": [],
   "source": [
    "import numpy as np\n",
    "import pandas as pd\n",
    "import matplotlib.pyplot as plt\n",
    "import torch\n",
    "import torch.nn as nn\n",
    "import torch.nn.functional as F\n",
    "import torch.optim as optim\n",
    "from torch.autograd import Function\n",
    "import os  "
   ]
  },
  {
   "cell_type": "markdown",
   "id": "11c03386",
   "metadata": {},
   "source": [
    "本实验使用Pytorch框架搭建神经网络，其他类似的框架还有TensorFlow。若同学对TensorFlow框架更为熟悉，可使用TensorFlow完成本次实验"
   ]
  },
  {
   "cell_type": "markdown",
   "id": "eebaf0fe",
   "metadata": {},
   "source": [
    "**<font color = blue size=4>第一部分:PyTorch介绍</font>**"
   ]
  },
  {
   "cell_type": "markdown",
   "id": "2a394db6",
   "metadata": {},
   "source": [
    "这里介绍一小部分PyTorch常用的库和函数，更多需求可参阅[PyTorch官方教程](https://pytorch.org/tutorials/beginner/deep_learning_60min_blitz.html)以及[PyTorch官方文档](https://pytorch.org/docs/stable/index.html)。"
   ]
  },
  {
   "cell_type": "code",
   "execution_count": 56,
   "id": "6fae149b",
   "metadata": {},
   "outputs": [
    {
     "name": "stdout",
     "output_type": "stream",
     "text": [
      "2.0.1+cpu\n"
     ]
    }
   ],
   "source": [
    "print(torch.__version__) # 输出当前版本"
   ]
  },
  {
   "cell_type": "markdown",
   "id": "392780bb",
   "metadata": {},
   "source": [
    "**<font color = green size=3>1.Tensor</font>**"
   ]
  },
  {
   "cell_type": "markdown",
   "id": "904623e4",
   "metadata": {},
   "source": [
    "Tensor与NumPy中的ndarray很相似，但Tensor可以利用GPU来加速计算（本次实验中暂不涉及这部分内容）。"
   ]
  },
  {
   "cell_type": "markdown",
   "id": "23642996",
   "metadata": {},
   "source": [
    "1.1. Tensor的创建"
   ]
  },
  {
   "cell_type": "code",
   "execution_count": 57,
   "id": "38cdf3ad",
   "metadata": {},
   "outputs": [
    {
     "name": "stdout",
     "output_type": "stream",
     "text": [
      "tensor([[1.3076e+22, 1.0243e-11, 1.3296e+22],\n",
      "        [6.4830e-10, 3.3554e-06, 4.0370e-08]])\n",
      "tensor([[1, 2, 3],\n",
      "        [4, 5, 6]])\n",
      "tensor([[0.9314, 0.3096, 0.9157, 0.9292],\n",
      "        [0.9719, 0.0694, 0.4811, 0.9078],\n",
      "        [0.4407, 0.5966, 0.3987, 0.4052]])\n",
      "tensor([[0., 0., 0.],\n",
      "        [0., 0., 0.]])\n",
      "tensor([[1., 1., 1.],\n",
      "        [1., 1., 1.]])\n"
     ]
    }
   ],
   "source": [
    "# 创建一个未初始化的Tensor\n",
    "x = torch.empty(2, 3)\n",
    "print(x)\n",
    "\n",
    "# 从一个列表创建Tensor\n",
    "x = torch.tensor([[1,2,3],[4,5,6]])\n",
    "print(x)\n",
    "\n",
    "# 创建一个随机Tensor\n",
    "x = torch.rand([3, 4])\n",
    "print(x)\n",
    "\n",
    "# 创建一个全零Tensor\n",
    "x = torch.zeros([2, 3])\n",
    "print(x)\n",
    "\n",
    "# 创建一个全一Tensor\n",
    "x = torch.ones([2, 3])\n",
    "print(x)"
   ]
  },
  {
   "cell_type": "markdown",
   "id": "9f354fd4",
   "metadata": {},
   "source": [
    "1.2. Tensor的运算"
   ]
  },
  {
   "cell_type": "code",
   "execution_count": 58,
   "id": "8070a903",
   "metadata": {},
   "outputs": [
    {
     "name": "stdout",
     "output_type": "stream",
     "text": [
      "tensor([[7, 7, 7],\n",
      "        [7, 7, 7]])\n",
      "tensor([[-5, -3, -1],\n",
      "        [ 1,  3,  5]])\n",
      "tensor([[ 6, 10, 12],\n",
      "        [12, 10,  6]])\n",
      "tensor([[ 6, 10, 12],\n",
      "        [12, 10,  6]])\n",
      "tensor([[28, 10],\n",
      "        [73, 28]])\n",
      "tensor([[28, 10],\n",
      "        [73, 28]])\n",
      "tensor([[1, 2],\n",
      "        [3, 4],\n",
      "        [5, 6]])\n",
      "tensor([[1, 2, 3],\n",
      "        [4, 5, 6],\n",
      "        [6, 5, 4],\n",
      "        [3, 2, 1]])\n",
      "tensor([[1, 2, 3, 6, 5, 4],\n",
      "        [4, 5, 6, 3, 2, 1]])\n"
     ]
    }
   ],
   "source": [
    "# 加减法\n",
    "x = torch.tensor([[1,2,3],\n",
    "                  [4,5,6]])\n",
    "y = torch.tensor([[6,5,4],\n",
    "                  [3,2,1]])\n",
    "print(x + y)\n",
    "print(x - y)\n",
    "\n",
    "# 对应位置相乘\n",
    "print(x * y)\n",
    "print(x.mul(y))\n",
    "\n",
    "# 矩阵乘法\n",
    "print(x.matmul(y.T))\n",
    "print(x @ y.T)\n",
    "\n",
    "# reshape\n",
    "print(x.reshape(3, 2))\n",
    "\n",
    "# 拼接\n",
    "print(torch.cat([x,y], dim=0)) # 纵向拼接\n",
    "print(torch.cat([x,y], dim=1)) # 横向拼接"
   ]
  },
  {
   "cell_type": "markdown",
   "id": "95961cee",
   "metadata": {},
   "source": [
    "1.3. Tensor与ndarray的相互转换"
   ]
  },
  {
   "cell_type": "code",
   "execution_count": 59,
   "id": "d1269212",
   "metadata": {},
   "outputs": [
    {
     "name": "stdout",
     "output_type": "stream",
     "text": [
      "tensor([[1, 2, 3],\n",
      "        [4, 5, 6]])\n",
      "[[1 2 3]\n",
      " [4 5 6]]\n",
      "[[0 0 0]\n",
      " [0 0 0]]\n",
      "tensor([[0, 0, 0],\n",
      "        [0, 0, 0]])\n"
     ]
    }
   ],
   "source": [
    "x = torch.tensor([[1,2,3],[4,5,6]])\n",
    "print(x)\n",
    "\n",
    "# 从Tensor转换到ndarray\n",
    "y = x.numpy()\n",
    "print(y)\n",
    "\n",
    "# Tensor与ndarray是共享空间的\n",
    "x[:]=0\n",
    "print(y)\n",
    "\n",
    "# 从ndarray到Tensor\n",
    "z = torch.from_numpy(y)\n",
    "print(z)"
   ]
  },
  {
   "cell_type": "markdown",
   "id": "bb6c36a7",
   "metadata": {},
   "source": [
    "**<font color = green size=3>2.梯度计算</font>**"
   ]
  },
  {
   "cell_type": "markdown",
   "id": "c2d3f1a6",
   "metadata": {},
   "source": [
    "2.1 梯度计算"
   ]
  },
  {
   "cell_type": "code",
   "execution_count": 60,
   "id": "9113eb5f",
   "metadata": {},
   "outputs": [
    {
     "name": "stdout",
     "output_type": "stream",
     "text": [
      "tensor([[3., 4.]])\n",
      "None\n",
      "tensor(1.)\n"
     ]
    }
   ],
   "source": [
    "#定义变量\n",
    "a = torch.tensor([[1., 2.]], requires_grad=True)\n",
    "b = torch.tensor([[3.], [4.]])\n",
    "c = torch.tensor(5., requires_grad=True)\n",
    "\n",
    "#计算输出\n",
    "z = a @ b + c\n",
    "\n",
    "#自动计算梯度\n",
    "z.backward()\n",
    "\n",
    "#输出叶子节点的梯度\n",
    "print(a.grad) #z对a的梯度\n",
    "print(b.grad) #由于b默认requires_grad为false，因此无法计算梯度，输出为None\n",
    "print(c.grad) #z对c的梯度"
   ]
  },
  {
   "cell_type": "markdown",
   "id": "d4a046cd",
   "metadata": {},
   "source": [
    "2.2 梯度清零"
   ]
  },
  {
   "cell_type": "code",
   "execution_count": 61,
   "id": "04cda9cd",
   "metadata": {},
   "outputs": [
    {
     "name": "stdout",
     "output_type": "stream",
     "text": [
      "梯度(a.grad): tensor([0.1966, 0.1966, 0.1966, 0.1966, 0.1966, 0.1966, 0.1966, 0.1966, 0.1966,\n",
      "        0.1966, 0.1966, 0.1966, 0.1966, 0.1966, 0.1966, 0.1966, 0.1966, 0.1966,\n",
      "        0.1966, 0.1966])\n",
      "求梯度后的结果(x.grad): tensor(4.)\n",
      "求梯度后的结果(x.grad): tensor(1.)\n"
     ]
    }
   ],
   "source": [
    "#支持多种运算求梯度，如torch.mean(),torch.sum()等\n",
    "a = torch.ones(20, requires_grad=True)\n",
    "z = torch.sum(torch.sigmoid(a))\n",
    "z.backward()\n",
    "print(\"梯度(a.grad):\", a.grad)\n",
    "\n",
    "\n",
    "#多次求梯度时梯度会累加，可使用tensor.grad.zero_()进行手动清零\n",
    "x = torch.tensor(2., requires_grad=True)\n",
    "y = x ** 2\n",
    "y.backward()\n",
    "print(\"求梯度后的结果(x.grad):\", x.grad)\n",
    "\n",
    "z = x + 3\n",
    "x.grad.zero_()  #可以将这句进行手动清零的代码注释掉后查看输出结果，来看到梯度清零的作用\n",
    "z.backward()\n",
    "print(\"求梯度后的结果(x.grad):\", x.grad)\n"
   ]
  },
  {
   "cell_type": "markdown",
   "id": "96d22808",
   "metadata": {},
   "source": [
    "**<font color = green size=3>3. 神经网络</font>**"
   ]
  },
  {
   "cell_type": "markdown",
   "id": "d2064274",
   "metadata": {},
   "source": [
    "3.1 神经网络的构建"
   ]
  },
  {
   "cell_type": "code",
   "execution_count": 62,
   "id": "207b6433",
   "metadata": {
    "scrolled": true
   },
   "outputs": [
    {
     "name": "stdout",
     "output_type": "stream",
     "text": [
      "Net(\n",
      "  (fc1): Linear(in_features=10, out_features=5, bias=True)\n",
      "  (fc2): Linear(in_features=5, out_features=1, bias=True)\n",
      "  (relu): ReLU()\n",
      ")\n"
     ]
    }
   ],
   "source": [
    "# 定义神经网络模型，继承自nn.Module\n",
    "class Net(nn.Module):\n",
    "    #输入层的维度为 input_dim\n",
    "    #隐藏层的维度为 hidden_dim\n",
    "    #输出层的维度为 output_dim\n",
    "    def __init__(self, input_dim, hidden_dim, output_dim):\n",
    "        super(Net, self).__init__()\n",
    "        # 第一个全连接层，输入维度为 input_dim，输出维度为 hidden_dim\n",
    "        self.fc1 = nn.Linear(input_dim, hidden_dim)\n",
    "        # 第二个全连接层，输入维度为 hidden_dim，输出维度为 output_dim\n",
    "        self.fc2 = nn.Linear(hidden_dim, output_dim)\n",
    "        # 激活函数 relu，用于在全连接层之间加入非线性变换\n",
    "        self.relu = nn.ReLU()\n",
    "\n",
    "    def forward(self, x):\n",
    "        # 第一层前向传播，得到输出 out\n",
    "        out = self.fc1(x)\n",
    "        # 对第一层的输出应用激活函数 relu，得到 out1\n",
    "        out1 = self.relu(out)\n",
    "        # 第二层前向传播，得到最终输出 out2\n",
    "        out2 = self.fc2(out1)\n",
    "        return out1, out2\n",
    "\n",
    "\n",
    "# 创建神经网络模型实例并输出\n",
    "net = Net(10,5,1)\n",
    "print(net)"
   ]
  },
  {
   "cell_type": "markdown",
   "id": "91efbf82",
   "metadata": {},
   "source": [
    "3.2 神经网络参数查询"
   ]
  },
  {
   "cell_type": "code",
   "execution_count": 63,
   "id": "6c2a943f",
   "metadata": {},
   "outputs": [
    {
     "name": "stdout",
     "output_type": "stream",
     "text": [
      "[torch.Size([5, 10]), torch.Size([5]), torch.Size([1, 5]), torch.Size([1])]\n",
      "Parameters: [Parameter containing:\n",
      "tensor([[-0.2072,  0.0514,  0.2664,  0.1006, -0.2845,  0.1259,  0.2615, -0.2449,\n",
      "          0.1303, -0.2395],\n",
      "        [ 0.1953,  0.2213, -0.0226,  0.2384, -0.1639, -0.1377, -0.0541,  0.2710,\n",
      "          0.0584, -0.2329],\n",
      "        [-0.0844,  0.1824,  0.1033, -0.1560,  0.1725, -0.0645,  0.1510,  0.2715,\n",
      "         -0.1865, -0.1923],\n",
      "        [-0.0417, -0.1825, -0.0053, -0.2236, -0.2774, -0.1391, -0.1335, -0.1185,\n",
      "          0.2040, -0.1034],\n",
      "        [-0.2912,  0.1067, -0.2208, -0.0126,  0.1313,  0.2133,  0.1051, -0.2652,\n",
      "         -0.2685, -0.3002]], requires_grad=True), Parameter containing:\n",
      "tensor([ 0.1748,  0.1523,  0.1159, -0.1668, -0.1025], requires_grad=True), Parameter containing:\n",
      "tensor([[ 0.2415,  0.2701, -0.1672, -0.3798,  0.2291]], requires_grad=True), Parameter containing:\n",
      "tensor([-0.1796], requires_grad=True)]\n"
     ]
    }
   ],
   "source": [
    "# 该神经网络中可学习的参数可以通过net.parameters()访问\n",
    "params = list(net.parameters())\n",
    "print([params[i].size() for i in range(len(params))])  \n",
    "print(\"Parameters:\",params)"
   ]
  },
  {
   "cell_type": "markdown",
   "id": "be5d5c67",
   "metadata": {},
   "source": [
    "3.3 神经网络前向传播"
   ]
  },
  {
   "cell_type": "code",
   "execution_count": 64,
   "id": "b733263e",
   "metadata": {},
   "outputs": [
    {
     "name": "stdout",
     "output_type": "stream",
     "text": [
      "Output of first layer: tensor([[0.1350, 0.5253, 0.3128, 0.0000, 0.0000]], grad_fn=<ReluBackward0>)\n",
      "Output of second layer: tensor([[-0.0575]], grad_fn=<AddmmBackward0>)\n"
     ]
    }
   ],
   "source": [
    "net.eval()\n",
    "#输入维度为10，生成数据\n",
    "input=torch.ones([1,10])\n",
    "input=input.float()\n",
    "\n",
    "# 进行一次forward()前向传播\n",
    "output1, output2  = net(input) \n",
    "\n",
    "# 前向传播并输出每一层的输出值\n",
    "print(\"Output of first layer:\", output1)\n",
    "print(\"Output of second layer:\", output2)"
   ]
  },
  {
   "cell_type": "markdown",
   "id": "89909999",
   "metadata": {},
   "source": [
    "3.4 神经网络反向传播"
   ]
  },
  {
   "cell_type": "code",
   "execution_count": 65,
   "id": "8c8f10b5",
   "metadata": {},
   "outputs": [
    {
     "name": "stdout",
     "output_type": "stream",
     "text": [
      "Gradients of first layer:\n",
      "tensor([[-0.5163, -0.5163, -0.5163, -0.5163, -0.5163, -0.5163, -0.5163, -0.5163,\n",
      "         -0.5163, -0.5163],\n",
      "        [-0.5773, -0.5773, -0.5773, -0.5773, -0.5773, -0.5773, -0.5773, -0.5773,\n",
      "         -0.5773, -0.5773],\n",
      "        [ 0.3574,  0.3574,  0.3574,  0.3574,  0.3574,  0.3574,  0.3574,  0.3574,\n",
      "          0.3574,  0.3574],\n",
      "        [ 0.0000,  0.0000,  0.0000,  0.0000,  0.0000,  0.0000,  0.0000,  0.0000,\n",
      "          0.0000,  0.0000],\n",
      "        [ 0.0000,  0.0000,  0.0000,  0.0000,  0.0000,  0.0000,  0.0000,  0.0000,\n",
      "          0.0000,  0.0000]])\n",
      "tensor([-0.5163, -0.5773,  0.3574,  0.0000,  0.0000])\n",
      "Gradients of second layer:\n",
      "tensor([[-0.2885, -1.1228, -0.6686,  0.0000,  0.0000]])\n",
      "tensor([-2.1376])\n"
     ]
    }
   ],
   "source": [
    "loss_fn = nn.MSELoss()\n",
    "target = torch.randn(1, 1)\n",
    "loss = loss_fn(output2, target)\n",
    "\n",
    "# 反向传播并输出每一层的梯度\n",
    "net.zero_grad()\n",
    "loss.backward()\n",
    "\n",
    "print(\"Gradients of first layer:\")\n",
    "print(net.fc1.weight.grad)\n",
    "print(net.fc1.bias.grad)\n",
    "\n",
    "print(\"Gradients of second layer:\")\n",
    "print(net.fc2.weight.grad)\n",
    "print(net.fc2.bias.grad)"
   ]
  },
  {
   "cell_type": "markdown",
   "id": "b2c9fb6e",
   "metadata": {},
   "source": [
    "3.5 训练神经网络的全过程例子"
   ]
  },
  {
   "cell_type": "code",
   "execution_count": 66,
   "id": "4126d755",
   "metadata": {},
   "outputs": [
    {
     "name": "stdout",
     "output_type": "stream",
     "text": [
      "[Parameter containing:\n",
      "tensor([[0.4179]], requires_grad=True), Parameter containing:\n",
      "tensor([0.9746], requires_grad=True)]\n",
      "Epoch [1/10], Loss: 6.463512420654297 . Gradient: tensor([[-10.8683]])\n",
      "Epoch [2/10], Loss: 5.1666083335876465 . Gradient: tensor([[-9.6787]])\n",
      "Epoch [3/10], Loss: 4.141198635101318 . Gradient: tensor([[-8.6211]])\n",
      "Epoch [4/10], Loss: 3.3303921222686768 . Gradient: tensor([[-7.6807]])\n",
      "Epoch [5/10], Loss: 2.6892194747924805 . Gradient: tensor([[-6.8447]])\n",
      "Epoch [6/10], Loss: 2.1821346282958984 . Gradient: tensor([[-6.1013]])\n",
      "Epoch [7/10], Loss: 1.7810395956039429 . Gradient: tensor([[-5.4404]])\n",
      "Epoch [8/10], Loss: 1.4637255668640137 . Gradient: tensor([[-4.8527]])\n",
      "Epoch [9/10], Loss: 1.2126383781433105 . Gradient: tensor([[-4.3302]])\n",
      "Epoch [10/10], Loss: 1.013899326324463 . Gradient: tensor([[-3.8656]])\n"
     ]
    }
   ],
   "source": [
    "# 创建一个简单的线性回归模型\n",
    "model = nn.Linear(1, 1)\n",
    "print(list(model.parameters()))\n",
    "criterion = nn.MSELoss()\n",
    "optimizer = optim.SGD(model.parameters(), lr=0.01)\n",
    "\n",
    "Epoch=10\n",
    "\n",
    "#生成数据\n",
    "inputs = torch.tensor([[1.0], [2.0], [3.0]])\n",
    "labels = torch.tensor([[2.0], [4.0], [6.0]])\n",
    "\n",
    "# 模拟训练过程\n",
    "for epoch in range(Epoch):\n",
    "    # 模拟输入数据和标签\n",
    "    \n",
    "    # 前向传播\n",
    "    outputs = model(inputs)\n",
    "\n",
    "    # 计算损失\n",
    "    loss = criterion(outputs, labels)\n",
    "    \n",
    "    #梯度清零\n",
    "    optimizer.zero_grad()\n",
    "      \n",
    "    # 反向传播\n",
    "    loss.backward()\n",
    "\n",
    "    # 更新参数\n",
    "    optimizer.step()\n",
    "\n",
    "    # 打印梯度值\n",
    "    print('Epoch [{}/{}], Loss: {}'.format(epoch+1,Epoch, loss),'. Gradient: {}'.format(model.weight.grad))\n",
    "    #print('Gradient: {}'.format(model.weight.grad))\n"
   ]
  },
  {
   "cell_type": "markdown",
   "id": "19d39b00",
   "metadata": {},
   "source": [
    "3.5 神经网络参数更新"
   ]
  },
  {
   "cell_type": "markdown",
   "id": "96f54bd7",
   "metadata": {},
   "source": [
    "1) 用梯度下降法(手动)更新net中的参数"
   ]
  },
  {
   "cell_type": "code",
   "execution_count": 67,
   "id": "d7187507",
   "metadata": {},
   "outputs": [],
   "source": [
    "#for f in net.parameters():\n",
    "    #f.data.sub_(f.grad.data * learning_rate)"
   ]
  },
  {
   "cell_type": "markdown",
   "id": "7ee49df5",
   "metadata": {},
   "source": [
    "2) 用PyTorch的优化器来更新net中的参数"
   ]
  },
  {
   "cell_type": "code",
   "execution_count": 68,
   "id": "06d237aa",
   "metadata": {},
   "outputs": [],
   "source": [
    "#选择优化器\n",
    "#optimizer = optim.SGD(net.parameters(), lr=0.01)\n",
    "\n",
    "# 建立循环:\n",
    "#optimizer.zero_grad()             # 梯度清零\n",
    "#output = net(input)               # 前向传播\n",
    "#loss = criterion(output, target)  # 计算误差\n",
    "#loss.backward()                   # 后向传播\n",
    "#optimizer.step()                  # 参数更新"
   ]
  },
  {
   "cell_type": "markdown",
   "id": "50be2d1f",
   "metadata": {},
   "source": [
    "**<font color = blue size=4>第二部分:实验内容</font>**"
   ]
  },
  {
   "cell_type": "markdown",
   "id": "ba5214e5",
   "metadata": {},
   "source": [
    "[Red Wine Quality](https://www.kaggle.com/datasets/uciml/red-wine-quality-cortez-et-al-2009)是一个关于红酒品质的数据集，总共有1599个样本，每个样本包含11个(都是连续的)特征以及1个标签，每个标签的取值是连续的。本次实验已经按照8：2的比例划分成了训练数据集'wine_train.csv'以及测试数据集'wine_test.csv'，且每个数据集都已经做了归一化处理。"
   ]
  },
  {
   "cell_type": "markdown",
   "id": "d4d9ccac",
   "metadata": {},
   "source": [
    "<span style=\"color:purple\">1) 读入训练数据集'wine_train.csv'与测试数据集'wine_test.csv'。</span>"
   ]
  },
  {
   "cell_type": "code",
   "execution_count": 69,
   "id": "c759660f",
   "metadata": {},
   "outputs": [],
   "source": [
    "\n",
    "# 导入数据集\n",
    "train_data = pd.read_csv(\"wine_train.csv\").values\n",
    "test_data =  pd.read_csv(\"wine_test.csv\").values\n",
    "\n",
    "# 分离训练集特征与标签\n",
    "X_train = train_data[:,:-1]\n",
    "y_train = train_data[:,-1]\n",
    "\n",
    "# 分离测试集特征与标签\n",
    "X_test  = test_data[:,:-1]\n",
    "y_test  = test_data[:,-1]\n"
   ]
  },
  {
   "cell_type": "markdown",
   "id": "d77619fd",
   "metadata": {},
   "source": [
    "<span style=\"color:purple\">2) 利用线性层和激活函数搭建一个神经网络，要求输入和输出维度与数据集维度一致，而神经网络深度、隐藏层大小、激活函数种类等超参数自行调整。</span>"
   ]
  },
  {
   "cell_type": "code",
   "execution_count": 70,
   "id": "26359bae",
   "metadata": {},
   "outputs": [],
   "source": [
    "import torch.nn as nn\n",
    "\n",
    "class Net(nn.Module):\n",
    "\n",
    "    def __init__(self, input_dim, hidden_dim1, hidden_dim2, output_dim):\n",
    "        super(Net, self).__init__()\n",
    "        # 第一个全连接层，输入维度为 input_dim，输出维度为 hidden_dim1\n",
    "        self.fc1 = nn.Linear(input_dim, hidden_dim1)\n",
    "        # 第二个全连接层，输入维度为 hidden_dim1，输出维度为 hidden_dim2\n",
    "        self.fc2 = nn.Linear(hidden_dim1, hidden_dim2)\n",
    "        # 第三个全连接层，输入维度为 hidden_dim2，输出维度为 output_dim\n",
    "        self.fc3 = nn.Linear(hidden_dim2, output_dim)\n",
    "        # 激活函数 sigmoid，用于在全连接层之间加入非线性变换\n",
    "        self.sigmoid = nn.Sigmoid()\n",
    "\n",
    "    def forward(self, x):\n",
    "        # 第一层全连接层的计算，将输入 x 映射到隐藏层1\n",
    "        out = self.fc1(x)\n",
    "        # 应用激活函数 sigmoid，引入非线性变换\n",
    "        out = self.sigmoid(out)\n",
    "        # 第二层全连接层的计算，将隐藏层1的输出映射到隐藏层2\n",
    "        out = self.fc2(out)\n",
    "        # 应用激活函数 sigmoid，引入非线性变换\n",
    "        out = self.sigmoid(out)\n",
    "        # 第三层全连接层的计算，将隐藏层2的输出映射到最终输出\n",
    "        out = self.fc3(out)\n",
    "        # 返回神经网络的输出\n",
    "        return out\n",
    "\n",
    "# 数据集维度\n",
    "input_dim = X_train.shape[1]\n",
    "output_dim = 1\n",
    "\n",
    "# 超参数\n",
    "hidden_dim1 = 64\n",
    "hidden_dim2 = 32\n",
    "learning_rate = 0.001\n",
    "\n",
    "# 构造模型\n",
    "model = Net(input_dim, hidden_dim1, hidden_dim2, output_dim)\n"
   ]
  },
  {
   "cell_type": "markdown",
   "id": "9b706eea",
   "metadata": {},
   "source": [
    "<span style=\"color:purple\">3) 用PyTorch的优化器(随机梯度下降)来进行模型参数更新，记下每轮迭代中的训练损失和测试损失。</span>"
   ]
  },
  {
   "cell_type": "code",
   "execution_count": 71,
   "id": "cad2f094",
   "metadata": {},
   "outputs": [
    {
     "name": "stdout",
     "output_type": "stream",
     "text": [
      "Epoch [01/60], Train Loss: 0.025939258, Test Loss: 0.026919529\n",
      "Epoch [02/60], Train Loss: 0.025846926, Test Loss: 0.026918482\n",
      "Epoch [03/60], Train Loss: 0.025873376, Test Loss: 0.026920762\n",
      "Epoch [04/60], Train Loss: 0.025882790, Test Loss: 0.026899174\n",
      "Epoch [05/60], Train Loss: 0.025855457, Test Loss: 0.026882380\n",
      "Epoch [06/60], Train Loss: 0.025827128, Test Loss: 0.026885519\n",
      "Epoch [07/60], Train Loss: 0.025817990, Test Loss: 0.026899252\n",
      "Epoch [08/60], Train Loss: 0.025822980, Test Loss: 0.026903223\n",
      "Epoch [09/60], Train Loss: 0.025824314, Test Loss: 0.026888955\n",
      "Epoch [10/60], Train Loss: 0.025813522, Test Loss: 0.026863387\n",
      "Epoch [11/60], Train Loss: 0.025795996, Test Loss: 0.026838150\n",
      "Epoch [12/60], Train Loss: 0.025781268, Test Loss: 0.026820386\n",
      "Epoch [13/60], Train Loss: 0.025774177, Test Loss: 0.026809473\n",
      "Epoch [14/60], Train Loss: 0.025771927, Test Loss: 0.026800314\n",
      "Epoch [15/60], Train Loss: 0.025767924, Test Loss: 0.026789600\n",
      "Epoch [16/60], Train Loss: 0.025758473, Test Loss: 0.026778419\n",
      "Epoch [17/60], Train Loss: 0.025745308, Test Loss: 0.026769836\n",
      "Epoch [18/60], Train Loss: 0.025732802, Test Loss: 0.026765093\n",
      "Epoch [19/60], Train Loss: 0.025723809, Test Loss: 0.026761821\n",
      "Epoch [20/60], Train Loss: 0.025717556, Test Loss: 0.026755655\n",
      "Epoch [21/60], Train Loss: 0.025710870, Test Loss: 0.026743760\n",
      "Epoch [22/60], Train Loss: 0.025701391, Test Loss: 0.026726782\n",
      "Epoch [23/60], Train Loss: 0.025689490, Test Loss: 0.026707837\n",
      "Epoch [24/60], Train Loss: 0.025677403, Test Loss: 0.026689967\n",
      "Epoch [25/60], Train Loss: 0.025666971, Test Loss: 0.026674319\n",
      "Epoch [26/60], Train Loss: 0.025658047, Test Loss: 0.026660223\n",
      "Epoch [27/60], Train Loss: 0.025648944, Test Loss: 0.026646713\n",
      "Epoch [28/60], Train Loss: 0.025638195, Test Loss: 0.026633704\n",
      "Epoch [29/60], Train Loss: 0.025625875, Test Loss: 0.026621770\n",
      "Epoch [30/60], Train Loss: 0.025613228, Test Loss: 0.026610967\n",
      "Epoch [31/60], Train Loss: 0.025601340, Test Loss: 0.026600137\n",
      "Epoch [32/60], Train Loss: 0.025590122, Test Loss: 0.026587427\n",
      "Epoch [33/60], Train Loss: 0.025578571, Test Loss: 0.026571620\n",
      "Epoch [34/60], Train Loss: 0.025565863, Test Loss: 0.026552981\n",
      "Epoch [35/60], Train Loss: 0.025552107, Test Loss: 0.026532894\n",
      "Epoch [36/60], Train Loss: 0.025538078, Test Loss: 0.026512787\n",
      "Epoch [37/60], Train Loss: 0.025524328, Test Loss: 0.026493361\n",
      "Epoch [38/60], Train Loss: 0.025510658, Test Loss: 0.026474619\n",
      "Epoch [39/60], Train Loss: 0.025496410, Test Loss: 0.026456404\n",
      "Epoch [40/60], Train Loss: 0.025481209, Test Loss: 0.026438687\n",
      "Epoch [41/60], Train Loss: 0.025465263, Test Loss: 0.026421312\n",
      "Epoch [42/60], Train Loss: 0.025449060, Test Loss: 0.026403660\n",
      "Epoch [43/60], Train Loss: 0.025432769, Test Loss: 0.026384708\n",
      "Epoch [44/60], Train Loss: 0.025416113, Test Loss: 0.026363635\n",
      "Epoch [45/60], Train Loss: 0.025398696, Test Loss: 0.026340341\n",
      "Epoch [46/60], Train Loss: 0.025380440, Test Loss: 0.026315454\n",
      "Epoch [47/60], Train Loss: 0.025361586, Test Loss: 0.026289839\n",
      "Epoch [48/60], Train Loss: 0.025342364, Test Loss: 0.026264112\n",
      "Epoch [49/60], Train Loss: 0.025322698, Test Loss: 0.026238531\n",
      "Epoch [50/60], Train Loss: 0.025302326, Test Loss: 0.026213100\n",
      "Epoch [51/60], Train Loss: 0.025281090, Test Loss: 0.026187694\n",
      "Epoch [52/60], Train Loss: 0.025259076, Test Loss: 0.026161950\n",
      "Epoch [53/60], Train Loss: 0.025236445, Test Loss: 0.026135240\n",
      "Epoch [54/60], Train Loss: 0.025213189, Test Loss: 0.026106874\n",
      "Epoch [55/60], Train Loss: 0.025189152, Test Loss: 0.026076462\n",
      "Epoch [56/60], Train Loss: 0.025164189, Test Loss: 0.026044136\n",
      "Epoch [57/60], Train Loss: 0.025138306, Test Loss: 0.026010389\n",
      "Epoch [58/60], Train Loss: 0.025111595, Test Loss: 0.025975775\n",
      "Epoch [59/60], Train Loss: 0.025084050, Test Loss: 0.025940683\n",
      "Epoch [60/60], Train Loss: 0.025055572, Test Loss: 0.025905246\n"
     ]
    }
   ],
   "source": [
    "# 定义损失函数和优化器\n",
    "criterion = nn.MSELoss()    # 均方误差损失函数，适用于回归问题\n",
    "optimizer = optim.Adam(model.parameters(), lr=learning_rate)\n",
    "\n",
    "# 将数据转换为PyTorch张量\n",
    "X_train_tensor = torch.FloatTensor(X_train)\n",
    "y_train_tensor = torch.FloatTensor(y_train).view(-1, 1)\n",
    "\n",
    "# 定义空列表来存储训练和测试损失\n",
    "train_losses = []\n",
    "test_losses = []\n",
    "\n",
    "Epoch = 60\n",
    "for epoch in range(Epoch):\n",
    "    \n",
    "    # 前向传播\n",
    "    outputs = model(X_train_tensor)\n",
    "\n",
    "    # 计算训练损失\n",
    "    loss = criterion(outputs, y_train_tensor)\n",
    "    \n",
    "    # 梯度清零\n",
    "    optimizer.zero_grad()\n",
    "      \n",
    "    # 反向传播\n",
    "    loss.backward()\n",
    "\n",
    "    # 更新参数\n",
    "    optimizer.step()\n",
    "\n",
    "    # 记录训练损失\n",
    "    train_losses.append(loss.item())\n",
    "\n",
    "    # 在测试集上计算损失\n",
    "    with torch.no_grad():\n",
    "        X_test_tensor = torch.FloatTensor(X_test)\n",
    "        y_test_tensor = torch.FloatTensor(y_test).view(-1, 1)\n",
    "        test_outputs = model(X_test_tensor)\n",
    "        test_loss = criterion(test_outputs, y_test_tensor)\n",
    "        test_losses.append(test_loss.item())\n",
    "\n",
    "    # 打印训练损失\n",
    "    print(f'Epoch [{epoch+1:02d}/{Epoch:02d}], Train Loss: {loss.item():.9f}, Test Loss: {test_loss.item():.9f}')\n"
   ]
  },
  {
   "cell_type": "markdown",
   "id": "ff5ff45e",
   "metadata": {},
   "source": [
    "<span style=\"color:purple\">4) 画出训练损失和测试损失关于迭代轮数的折线图。</span>"
   ]
  },
  {
   "cell_type": "code",
   "execution_count": 72,
   "id": "3ba3071f",
   "metadata": {},
   "outputs": [
    {
     "data": {
      "image/png": "[encoded data removed]",
      "text/plain": [
       "<Figure size 640x480 with 1 Axes>"
      ]
     },
     "metadata": {},
     "output_type": "display_data"
    }
   ],
   "source": [
    "\n",
    "# 绘制训练损失和测试损失的折线图\n",
    "plt.plot(range(1, Epoch+1), train_losses, label='Train Loss')\n",
    "plt.plot(range(1, Epoch+1), test_losses, label='Test Loss')\n",
    "plt.xlabel('Epoch')\n",
    "plt.ylabel('Loss')\n",
    "plt.title('Training and Test Loss Over Epochs')\n",
    "plt.legend()\n",
    "plt.show()\n"
   ]
  },
  {
   "cell_type": "markdown",
   "id": "fbaceea0",
   "metadata": {},
   "source": [
    "**<font color = blue size=4>第三部分:作业提交</font>**"
   ]
  },
  {
   "cell_type": "markdown",
   "id": "4564e8a6",
   "metadata": {},
   "source": [
    "一、实验课下课前提交完成代码，如果下课前未完成，请将已经完成的部分进行提交，未完成的部分于之后的实验报告中进行补充  \n",
    "要求:  \n",
    "1)文件格式为：学号-姓名.ipynb  \n",
    "2)【不要】提交文件夹、压缩包、数据集等无关文件，只需提交单个ipynb文件即可"
   ]
  },
  {
   "cell_type": "markdown",
   "id": "10af5b08",
   "metadata": {},
   "source": [
    "二、本次实验分为两周完成，实验报告提交截止日期: 12月15号14:20  \n",
    "要求：  \n",
    "1)文件格式为：学号-姓名.pdf  \n",
    "2)【不要】提交文件夹、压缩包、代码文件、数据集等任何与实验报告无关的文件，只需要提交单个pdf文件即可  \n",
    "3)文件命名时不需要额外添加“实验几”等额外信息，按照格式提交  "
   ]
  },
  {
   "cell_type": "markdown",
   "id": "b50e73e3",
   "metadata": {},
   "source": [
    "实验十二(神经网络)的实验报告上交地址: https://send2me.cn/Wk9FsyYO/SKCBsWeFtvwQsg"
   ]
  },
  {
   "cell_type": "markdown",
   "id": "26db7ee4",
   "metadata": {},
   "source": [
    "三、课堂课件获取地址:https://www.jianguoyun.com/p/DWHYtsEQp5WhChjwtKoFIAA\n",
    "实验内容获取地址:https://www.jianguoyun.com/p/DbNY_SIQp5WhChjvtKoFIAA"
   ]
  }
 ],
 "metadata": {
  "kernelspec": {
   "display_name": "Python 3",
   "language": "python",
   "name": "python3"
  },
  "language_info": {
   "codemirror_mode": {
    "name": "ipython",
    "version": 3
   },
   "file_extension": ".py",
   "mimetype": "text/x-python",
   "name": "python",
   "nbconvert_exporter": "python",
   "pygments_lexer": "ipython3",
   "version": "3.11.2"
  }
 },
 "nbformat": 4,
 "nbformat_minor": 5
}
