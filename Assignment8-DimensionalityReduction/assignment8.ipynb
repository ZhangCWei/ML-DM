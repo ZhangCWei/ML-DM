{
 "cells": [
  {
   "cell_type": "markdown",
   "id": "0c6be3f3",
   "metadata": {},
   "source": [
    "**<font color = black size=6>实验八:降维</font>**"
   ]
  },
  {
   "cell_type": "markdown",
   "id": "c67603ef",
   "metadata": {},
   "source": [
    "本次实验为编写机器学习中的用于降维的PCA(主成分分析)算法。在本次实验中，我们将对一个维度过高的数据集进行降维。"
   ]
  },
  {
   "cell_type": "code",
   "execution_count": 146,
   "id": "073dcebf",
   "metadata": {},
   "outputs": [],
   "source": [
    "import pandas as pd\n",
    "import numpy as np\n",
    "import matplotlib.pyplot as plt\n",
    "import math\n",
    "import matplotlib as mpl\n",
    "import warnings\n",
    "warnings.filterwarnings('ignore')\n",
    "from pandas.core.frame import DataFrame"
   ]
  },
  {
   "cell_type": "markdown",
   "id": "1dfd27f7",
   "metadata": {},
   "source": [
    "**<font color = blue size=4>第一部分:函数介绍</font>**"
   ]
  },
  {
   "cell_type": "markdown",
   "id": "33c792dc",
   "metadata": {},
   "source": [
    "介绍一些可以用到的函数"
   ]
  },
  {
   "cell_type": "markdown",
   "id": "0afa22b9",
   "metadata": {},
   "source": [
    "1.计算方阵的特征值和特征向量"
   ]
  },
  {
   "cell_type": "code",
   "execution_count": 147,
   "id": "73df2b30",
   "metadata": {},
   "outputs": [
    {
     "name": "stdout",
     "output_type": "stream",
     "text": [
      "该矩阵的特征值: [1. 2. 3.]\n",
      "该矩阵的特征向量: [[1. 0. 0.]\n",
      " [0. 1. 0.]\n",
      " [0. 0. 1.]]\n"
     ]
    }
   ],
   "source": [
    "a=np.array([[1,0,0],[0,2,0],[0,0,3]])\n",
    "vals,vecs=np.linalg.eig(a)\n",
    "print(\"该矩阵的特征值:\",vals)\n",
    "print(\"该矩阵的特征向量:\",vecs)"
   ]
  },
  {
   "cell_type": "markdown",
   "id": "e3896646",
   "metadata": {},
   "source": [
    "2.排序函数"
   ]
  },
  {
   "cell_type": "code",
   "execution_count": 148,
   "id": "482237fd",
   "metadata": {},
   "outputs": [
    {
     "name": "stdout",
     "output_type": "stream",
     "text": [
      "[1, 2, 3, 4]\n",
      "未排序前: [(3, [0, 0, 3, 0]), (1, [1, 0, 0, 0]), (2, [0, 2, 0, 0]), (4, [0, 0, 0, 4])]\n",
      "排序后: [(1, [1, 0, 0, 0]), (2, [0, 2, 0, 0]), (3, [0, 0, 3, 0]), (4, [0, 0, 0, 4])]\n"
     ]
    }
   ],
   "source": [
    "#list的排序\n",
    "a=[3,1,2,4]\n",
    "a.sort()\n",
    "print(a)\n",
    "#字典的排序\n",
    "a=[3,1,2,4]\n",
    "b=[[0,0,3,0],[1,0,0,0],[0,2,0,0],[0,0,0,4]]\n",
    "c = [(a[i],b[i]) for i in range(len(a))]\n",
    "print(\"未排序前:\",c)\n",
    "c=sorted(c)\n",
    "print(\"排序后:\",c)"
   ]
  },
  {
   "cell_type": "markdown",
   "id": "1a0fe79b",
   "metadata": {},
   "source": [
    "**<font color = blue size=4>第二部分:实验任务</font>**"
   ]
  },
  {
   "cell_type": "markdown",
   "id": "678afe02",
   "metadata": {},
   "source": [
    "本任务使用train_data.csv数据集，共有九维特征.本次实验实现PCA算法，下面是PCA算法的伪代码"
   ]
  },
  {
   "cell_type": "code",
   "execution_count": 149,
   "id": "4e7825b3",
   "metadata": {},
   "outputs": [
    {
     "data": {
      "text/html": [
       "<img src=\"PCA Pseudocode.png\", width=720, heigth=240>\n"
      ],
      "text/plain": [
       "<IPython.core.display.HTML object>"
      ]
     },
     "metadata": {},
     "output_type": "display_data"
    }
   ],
   "source": [
    "%%html\n",
    "<img src=\"PCA Pseudocode.png\", width=720, heigth=240>"
   ]
  },
  {
   "cell_type": "markdown",
   "id": "4c351d23",
   "metadata": {},
   "source": [
    "**<font color = green size=3>1):降维</font>**"
   ]
  },
  {
   "cell_type": "markdown",
   "id": "ac44d45c",
   "metadata": {},
   "source": [
    "<span style=\"color:purple\">1.将训练集\"train_data.csv\"导入，训练集共有167个样本，每个样本有9个特征值，将原始数据按列组成9行167列的矩阵X</span>"
   ]
  },
  {
   "cell_type": "code",
   "execution_count": 150,
   "id": "44320086",
   "metadata": {},
   "outputs": [
    {
     "name": "stdout",
     "output_type": "stream",
     "text": [
      "[[9.02e+01 1.66e+01 2.73e+01 ... 2.33e+01 5.63e+01 8.31e+01]\n",
      " [1.00e+01 2.80e+01 3.84e+01 ... 7.20e+01 3.00e+01 3.70e+01]\n",
      " [7.58e+00 6.55e+00 4.17e+00 ... 6.84e+00 5.18e+00 5.89e+00]\n",
      " ...\n",
      " [5.62e+01 7.63e+01 7.65e+01 ... 7.31e+01 6.75e+01 5.20e+01]\n",
      " [5.82e+00 1.65e+00 2.89e+00 ... 1.95e+00 4.67e+00 5.40e+00]\n",
      " [5.53e+02 4.09e+03 4.46e+03 ... 1.31e+03 1.31e+03 1.46e+03]]\n"
     ]
    }
   ],
   "source": [
    "# 读取数据集\n",
    "train_data = pd.read_csv(\"train_data.csv\")\n",
    "X = train_data.values.T\n",
    "print(X)"
   ]
  },
  {
   "cell_type": "markdown",
   "id": "22e10545",
   "metadata": {},
   "source": [
    "<span style=\"color:purple\">2.对所有样本进行中心化，即将X的每一行减去这一行的均值</span>"
   ]
  },
  {
   "cell_type": "code",
   "execution_count": 151,
   "id": "4bdad758",
   "metadata": {},
   "outputs": [],
   "source": [
    "# 计算与存储平均值\n",
    "X_means = np.mean(X, axis=1, keepdims=True)\n",
    "X_centered = X - X_means\n"
   ]
  },
  {
   "cell_type": "markdown",
   "id": "533ea386",
   "metadata": {},
   "source": [
    "<span style=\"color:purple\">3.求出协方差矩阵\n",
    "$X$.$X^T$</span>"
   ]
  },
  {
   "cell_type": "code",
   "execution_count": 152,
   "id": "6700c022",
   "metadata": {},
   "outputs": [],
   "source": [
    "# 求取协方差矩阵\n",
    "cov_matrix = np.cov(X_centered)\n"
   ]
  },
  {
   "cell_type": "markdown",
   "id": "9019cd5d",
   "metadata": {},
   "source": [
    "<span style=\"color:purple\">4.对协方差矩阵\n",
    "$X$.$X^T$\n",
    "做特征值分解，即求出协方差矩阵的特征值\n",
    "$\\vec{\\lambda}=\\{\\lambda_1,\\lambda_2,...,\\lambda_d\\}$\n",
    "及对应的特征向量\n",
    "$\\vec{\\omega}=\\{\\omega_1,\\omega_2,...,\\omega_d\\}$\n",
    ". 其中\n",
    "$\\lambda_i \\sim \\omega_i$\n",
    ".</span>"
   ]
  },
  {
   "cell_type": "code",
   "execution_count": 153,
   "id": "3df0d7c7",
   "metadata": {},
   "outputs": [],
   "source": [
    "#your code here\n",
    "# 求特征值与特征向量\n",
    "eigenvalues, eigenvectors = np.linalg.eig(cov_matrix)\n",
    "\n",
    "# 字典类型\n",
    "eigenpairs = [(eigenvalues[i], eigenvectors[:, i]) for i in range(len(eigenvalues))]\n",
    "\n",
    "# 排序\n",
    "eigenpairs = sorted(eigenpairs, reverse=True)\n"
   ]
  },
  {
   "cell_type": "markdown",
   "id": "231d75c4",
   "metadata": {},
   "source": [
    "<span style=\"color:purple\">5.选取降维后的维度k：依据特征值计算方差的贡献率，先将所有特征值按照降序进行排序。要求降维后的数据方差占比超过阈值t%，公式如下. 我们这里取阈值为t%=99%:\n",
    "    $$\\frac{\\sum_{i=1}^k\\lambda_i}{\\sum_{i=1}^k\\lambda_i} \\geq t\\%$$\n",
    "</span>"
   ]
  },
  {
   "cell_type": "code",
   "execution_count": 154,
   "id": "deb290e3",
   "metadata": {},
   "outputs": [],
   "source": [
    "# 选择降维后的维度k\n",
    "total_v = sum(eigenvalues)\n",
    "v_ratio = [(i / total_v) for i in [eigenpair[0] for eigenpair in eigenpairs[:]]]\n",
    "cumulative_v = np.cumsum(v_ratio)\n",
    "\n",
    "# 设置阈值, 这里为99%\n",
    "threshold = 0.99\n",
    "k = np.argmax(cumulative_v >= threshold) + 1\n"
   ]
  },
  {
   "cell_type": "markdown",
   "id": "bffdeb99",
   "metadata": {},
   "source": [
    "<span style=\"color:purple\">6.将特征向量按对应特征值大小从上到下按行排列，取前k个对应特征值最大的特征向量组成投影矩阵\n",
    "W=($\\omega_1,\\omega_2,...,\\omega_k$)</span>"
   ]
  },
  {
   "cell_type": "code",
   "execution_count": 155,
   "id": "02b8815f",
   "metadata": {},
   "outputs": [],
   "source": [
    "# 组成投影矩阵\n",
    "top_k_eigenvectors = np.array([eigenpair[1] for eigenpair in eigenpairs[:k]])\n",
    "W = top_k_eigenvectors\n"
   ]
  },
  {
   "cell_type": "markdown",
   "id": "207a7025",
   "metadata": {},
   "source": [
    "<span style=\"color:purple\">7.根据公式\n",
    "$Y=W·X$\n",
    "得到降维到k维后的数据集Y。"
   ]
  },
  {
   "cell_type": "code",
   "execution_count": 156,
   "metadata": {},
   "outputs": [],
   "source": [
    "# 得到降维到k维后的数据集Y\n",
    "Y = np.dot(W, X_centered)\n"
   ]
  },
  {
   "cell_type": "markdown",
   "id": "646b404e",
   "metadata": {},
   "source": [
    "<span style=\"color:purple\">8.请从降维的特征值选择其中两个（如果降维后不足二维，则跳过这部分）作为绘图的横纵坐标，将所有样本绘制到一张图中，其中同一聚类的样本点绘制为相同颜色</span>"
   ]
  },
  {
   "cell_type": "code",
   "execution_count": 157,
   "id": "9fb41a3f",
   "metadata": {},
   "outputs": [
    {
     "data": {
      "image/png": "[encoded data removed]",
      "text/plain": [
       "<Figure size 640x480 with 1 Axes>"
      ]
     },
     "metadata": {},
     "output_type": "display_data"
    }
   ],
   "source": [
    "if k >= 2:\n",
    "    plt.scatter(Y[0], Y[1])\n",
    "    plt.xlabel('Principal Component 1')\n",
    "    plt.ylabel('Principal Component 2')\n",
    "    plt.title('PCA Reduced Data')\n",
    "    plt.show()"
   ]
  },
  {
   "cell_type": "markdown",
   "id": "f5fd1178",
   "metadata": {},
   "source": [
    "**<font color = blue size=4>第三部分:作业提交</font>**"
   ]
  },
  {
   "cell_type": "markdown",
   "id": "cc8aeae1",
   "metadata": {},
   "source": [
    "一、实验课下课前提交完成代码，如果下课前未完成，请将已经完成的部分进行提交，未完成的部分于之后的实验报告中进行补充  \n",
    "要求:  \n",
    "1)文件格式为：学号-姓名.ipynb  \n",
    "2)【不要】提交文件夹、压缩包、数据集等无关文件，只需提交单个ipynb文件即可，如果交错请到讲台前联系助教，删掉之前的错误版本后再进行提交"
   ]
  },
  {
   "cell_type": "markdown",
   "id": "f1c2f1be",
   "metadata": {},
   "source": [
    "二、本次实验报告下周（11.10 14:20）交  \n",
    "要求：  \n",
    "1)文件格式为：学号-姓名.pdf  \n",
    "2)【不要】提交文件夹、压缩包、代码文件、数据集等任何与实验报告无关的文件，只需要提交单个pdf文件即可  \n",
    "3)文件命名时不需要额外添加“实验几”等额外信息，按照格式提交  \n",
    "4)每周的实验报告提交地址会变化，且有时间限制，提交时间为下周的实验课开始时，请注意及时提交。"
   ]
  },
  {
   "cell_type": "markdown",
   "id": "bbba73c9",
   "metadata": {},
   "source": [
    "实验八(降维)的实验报告:  \n",
    "截止时间：2023-11-10 14:20  \n",
    "提交地址：https://send2me.cn/U83-fI9G/T5Svof7YxaL6Ng"
   ]
  },
  {
   "cell_type": "markdown",
   "id": "665dbc0b",
   "metadata": {},
   "source": [
    "三、课堂课件获取地址:https://www.jianguoyun.com/p/Dag8kS8Qp5WhChjW06UFIAA  \n",
    "实验内容获取地址:https://www.jianguoyun.com/p/Db5AxlgQp5WhChjY06UFIAA"
   ]
  }
 ],
 "metadata": {
  "kernelspec": {
   "display_name": "Python 3",
   "language": "python",
   "name": "python3"
  },
  "language_info": {
   "codemirror_mode": {
    "name": "ipython",
    "version": 3
   },
   "file_extension": ".py",
   "mimetype": "text/x-python",
   "name": "python",
   "nbconvert_exporter": "python",
   "pygments_lexer": "ipython3",
   "version": "3.11.2"
  }
 },
 "nbformat": 4,
 "nbformat_minor": 5
}
